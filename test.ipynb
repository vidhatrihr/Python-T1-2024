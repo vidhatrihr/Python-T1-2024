{
 "cells": [
  {
   "cell_type": "code",
   "execution_count": 5,
   "metadata": {},
   "outputs": [
    {
     "data": {
      "text/plain": [
       "4"
      ]
     },
     "execution_count": 5,
     "metadata": {},
     "output_type": "execute_result"
    },
    {
     "data": {
      "text/plain": [
       "4"
      ]
     },
     "execution_count": 5,
     "metadata": {},
     "output_type": "execute_result"
    }
   ],
   "source": [
    "2 + 2\n",
    "2 + 2"
   ]
  },
  {
   "cell_type": "code",
   "execution_count": 4,
   "metadata": {},
   "outputs": [
    {
     "data": {
      "text/plain": [
       "10"
      ]
     },
     "execution_count": 4,
     "metadata": {},
     "output_type": "execute_result"
    }
   ],
   "source": [
    "5 + 5 "
   ]
  },
  {
   "cell_type": "code",
   "execution_count": 7,
   "metadata": {},
   "outputs": [
    {
     "name": "stdout",
     "output_type": "stream",
     "text": [
      "3,4,5\n",
      "5,12,13\n",
      "6,8,10\n"
     ]
    }
   ],
   "source": [
    "n = 15\n",
    "\n",
    "for x in range(1, n-2):\n",
    "    for y in range(x+1, n-1):\n",
    "        for z in range(y+1,n):\n",
    "            equation = x**2 +y**2 == z**2\n",
    "            if equation:\n",
    "                print(f'{x},{y},{z}')"
   ]
  },
  {
   "cell_type": "code",
   "execution_count": 1,
   "metadata": {},
   "outputs": [
    {
     "name": "stdout",
     "output_type": "stream",
     "text": [
      "7 < 7.3 < 8\n"
     ]
    }
   ],
   "source": [
    "# Accept only positive floating point numbers\n",
    "def bound(x):\n",
    "    lower = int(x)\n",
    "    upper = lower + 1\n",
    "    return lower, upper\n",
    "\n",
    "y = 7.3\n",
    "l, u = bound(y)\n",
    "print(f'{l} < {y} < {u}')"
   ]
  },
  {
   "cell_type": "code",
   "execution_count": 4,
   "metadata": {},
   "outputs": [
    {
     "name": "stdout",
     "output_type": "stream",
     "text": [
      "['1', '2', '3', '4', '5']\n"
     ]
    }
   ],
   "source": [
    "# When in doubt, always print the variables and examine the output.\n",
    "\n",
    "num = '1,2,3,4,5'\n",
    "L = num.split(',')\n",
    "print(L)\n"
   ]
  },
  {
   "cell_type": "code",
   "execution_count": 9,
   "metadata": {},
   "outputs": [
    {
     "name": "stdout",
     "output_type": "stream",
     "text": [
      "1,2,3,4,5,"
     ]
    }
   ],
   "source": [
    "L = [1, 2, 3, 4, 5]\n",
    "for x in L:\n",
    "    print(str(x) + ',', end='')"
   ]
  },
  {
   "cell_type": "code",
   "execution_count": 5,
   "metadata": {},
   "outputs": [
    {
     "ename": "NameError",
     "evalue": "name 'A' is not defined",
     "output_type": "error",
     "traceback": [
      "\u001b[1;31m---------------------------------------------------------------------------\u001b[0m",
      "\u001b[1;31mNameError\u001b[0m                                 Traceback (most recent call last)",
      "Cell \u001b[1;32mIn[5], line 6\u001b[0m\n\u001b[0;32m      2\u001b[0m \u001b[38;5;28;01mdef\u001b[39;00m \u001b[38;5;21mdim_equal\u001b[39m(A, B):\n\u001b[0;32m      3\u001b[0m     \u001b[38;5;66;03m# if A[i][j] == B[i][j]:\u001b[39;00m\n\u001b[0;32m      4\u001b[0m     \u001b[38;5;66;03m# len of row in matrix is equal to len(A) and len of col is len(A[0])\u001b[39;00m\n\u001b[0;32m      5\u001b[0m     \u001b[38;5;28;01mreturn\u001b[39;00m \u001b[38;5;28mlen\u001b[39m(A) \u001b[38;5;241m==\u001b[39m \u001b[38;5;28mlen\u001b[39m(B) \u001b[38;5;129;01mand\u001b[39;00m \u001b[38;5;28mlen\u001b[39m(A[\u001b[38;5;241m0\u001b[39m]) \u001b[38;5;241m==\u001b[39m \u001b[38;5;28mlen\u001b[39m(B[\u001b[38;5;241m0\u001b[39m])\n\u001b[1;32m----> 6\u001b[0m dim_equal(\u001b[43mA\u001b[49m, B)\n",
      "\u001b[1;31mNameError\u001b[0m: name 'A' is not defined"
     ]
    }
   ],
   "source": [
    "# tutorial ppa 4\n",
    "def dim_equal(A, B):\n",
    "    # if A[i][j] == B[i][j]:\n",
    "    # len of row in matrix is equal to len(A) and len of col is len(A[0])\n",
    "    return len(A) == len(B) and len(A[0]) == len(B[0])\n",
    "dim_equal(A, B)"
   ]
  },
  {
   "cell_type": "code",
   "execution_count": 6,
   "metadata": {},
   "outputs": [
    {
     "ename": "NameError",
     "evalue": "name 'L' is not defined",
     "output_type": "error",
     "traceback": [
      "\u001b[1;31m---------------------------------------------------------------------------\u001b[0m",
      "\u001b[1;31mNameError\u001b[0m                                 Traceback (most recent call last)",
      "Cell \u001b[1;32mIn[6], line 7\u001b[0m\n\u001b[0;32m      5\u001b[0m \u001b[38;5;28;01mdef\u001b[39;00m \u001b[38;5;21mtype_of_sequence\u001b[39m(L):\n\u001b[0;32m      6\u001b[0m     n \u001b[38;5;241m=\u001b[39m \u001b[38;5;241m0\u001b[39m\n\u001b[1;32m----> 7\u001b[0m \u001b[38;5;28;01mfor\u001b[39;00m w \u001b[38;5;129;01min\u001b[39;00m \u001b[43mL\u001b[49m:\n\u001b[0;32m      8\u001b[0m     n \u001b[38;5;241m+\u001b[39m\u001b[38;5;241m=\u001b[39m \u001b[38;5;28mint\u001b[39m(mysterious(w))\n\u001b[0;32m     10\u001b[0m \u001b[38;5;28;01mif\u001b[39;00m n \u001b[38;5;241m<\u001b[39m \u001b[38;5;241m2\u001b[39m:\n",
      "\u001b[1;31mNameError\u001b[0m: name 'L' is not defined"
     ]
    }
   ],
   "source": [
    "# there is already a ready made function given to Us\n",
    "def mysterious(w):\n",
    "    pass\n",
    "\n",
    "def type_of_sequence(L):\n",
    "    n = 0\n",
    "for w in L:\n",
    "    n += int(mysterious(w))\n",
    "\n",
    "if n < 2:\n",
    "    print('mildly mysterious')\n",
    "elif n < 5:\n",
    "    print('moderately mysterious')\n",
    "else:\n",
    "    print('most mysterious')"
   ]
  },
  {
   "cell_type": "code",
   "execution_count": 8,
   "metadata": {},
   "outputs": [],
   "source": [
    "# List slicing in python\n",
    "def empty_l(L):\n",
    "    return len(L) == 0\n",
    "    \n",
    "def first_elem(a):\n",
    "    return a[0] if len(a) > 0 else 'None'\n",
    "\n",
    "def last_elem(b):\n",
    "    return b[-1] if len(b) > 0 else 'None'\n",
    "\n",
    "def intial(a):\n",
    "    return a[:-1] if len(a) > 0 else 'None'\n",
    "\n",
    "def rest(b):\n",
    "    return b[1:] if len(b) > 0 else 'None'"
   ]
  },
  {
   "cell_type": "code",
   "execution_count": 2,
   "metadata": {},
   "outputs": [],
   "source": [
    "# ppa 9\n",
    "\n",
    "def get_row(mat, row):\n",
    "    return mat[row]\n",
    "# def get_col(mat, col):\n",
    "#     return [,row[col] row for mat]"
   ]
  },
  {
   "cell_type": "code",
   "execution_count": 17,
   "metadata": {},
   "outputs": [],
   "source": [
    "def mini(L):\n",
    "    for i in mini(L):\n",
    "        mini = L[0]\n",
    "        if i < mini:\n",
    "            mini = i\n",
    "    return mini(L)\n",
    "\n",
    "def manual_sort(k):\n",
    "    sorted_k = []\n",
    "    while k:\n",
    "        m = mini(k)\n",
    "        k.remove(m)\n",
    "        sorted_k.append(k)\n",
    "    return sorted_k\n",
    "\n",
    "# def insert(L, i):\n",
    "#     return manual_sort(L +[i])"
   ]
  },
  {
   "cell_type": "code",
   "execution_count": 18,
   "metadata": {},
   "outputs": [
    {
     "ename": "UnboundLocalError",
     "evalue": "cannot access local variable 'mini' where it is not associated with a value",
     "output_type": "error",
     "traceback": [
      "\u001b[1;31m---------------------------------------------------------------------------\u001b[0m",
      "\u001b[1;31mUnboundLocalError\u001b[0m                         Traceback (most recent call last)",
      "Cell \u001b[1;32mIn[18], line 1\u001b[0m\n\u001b[1;32m----> 1\u001b[0m \u001b[43mmanual_sort\u001b[49m\u001b[43m(\u001b[49m\u001b[43m[\u001b[49m\u001b[38;5;241;43m1\u001b[39;49m\u001b[43m,\u001b[49m\u001b[38;5;241;43m4\u001b[39;49m\u001b[43m,\u001b[49m\u001b[38;5;241;43m3\u001b[39;49m\u001b[43m,\u001b[49m\u001b[38;5;241;43m2\u001b[39;49m\u001b[43m,\u001b[49m\u001b[38;5;241;43m6\u001b[39;49m\u001b[43m]\u001b[49m\u001b[43m)\u001b[49m\n",
      "Cell \u001b[1;32mIn[17], line 11\u001b[0m, in \u001b[0;36mmanual_sort\u001b[1;34m(k)\u001b[0m\n\u001b[0;32m      9\u001b[0m sorted_k \u001b[38;5;241m=\u001b[39m []\n\u001b[0;32m     10\u001b[0m \u001b[38;5;28;01mwhile\u001b[39;00m k:\n\u001b[1;32m---> 11\u001b[0m     m \u001b[38;5;241m=\u001b[39m \u001b[43mmini\u001b[49m\u001b[43m(\u001b[49m\u001b[43mk\u001b[49m\u001b[43m)\u001b[49m\n\u001b[0;32m     12\u001b[0m     k\u001b[38;5;241m.\u001b[39mremove(m)\n\u001b[0;32m     13\u001b[0m     sorted_k\u001b[38;5;241m.\u001b[39mappend(k)\n",
      "Cell \u001b[1;32mIn[17], line 2\u001b[0m, in \u001b[0;36mmini\u001b[1;34m(L)\u001b[0m\n\u001b[0;32m      1\u001b[0m \u001b[38;5;28;01mdef\u001b[39;00m \u001b[38;5;21mmini\u001b[39m(L):\n\u001b[1;32m----> 2\u001b[0m     \u001b[38;5;28;01mfor\u001b[39;00m i \u001b[38;5;129;01min\u001b[39;00m \u001b[43mmini\u001b[49m(L):\n\u001b[0;32m      3\u001b[0m         mini \u001b[38;5;241m=\u001b[39m L[\u001b[38;5;241m0\u001b[39m]\n\u001b[0;32m      4\u001b[0m         \u001b[38;5;28;01mif\u001b[39;00m i \u001b[38;5;241m<\u001b[39m mini:\n",
      "\u001b[1;31mUnboundLocalError\u001b[0m: cannot access local variable 'mini' where it is not associated with a value"
     ]
    }
   ],
   "source": [
    "manual_sort([1,4,3,2,6])"
   ]
  },
  {
   "cell_type": "code",
   "execution_count": 19,
   "metadata": {},
   "outputs": [],
   "source": [
    "def insert(L, x):\n",
    "    L = [*L, x]\n",
    "    L.sort(x)\n",
    "    return L"
   ]
  },
  {
   "cell_type": "code",
   "execution_count": 1,
   "metadata": {},
   "outputs": [
    {
     "data": {
      "text/plain": [
       "'1_element'"
      ]
     },
     "execution_count": 1,
     "metadata": {},
     "output_type": "execute_result"
    },
    {
     "data": {
      "text/plain": [
       "'2_element'"
      ]
     },
     "execution_count": 1,
     "metadata": {},
     "output_type": "execute_result"
    },
    {
     "data": {
      "text/plain": [
       "'3_element'"
      ]
     },
     "execution_count": 1,
     "metadata": {},
     "output_type": "execute_result"
    }
   ],
   "source": [
    "# List in python\n",
    "my_list = ['1_element', '2_element', '3_element']\n",
    "my_list[0]\n",
    "my_list[1]\n",
    "my_list[2]\n"
   ]
  },
  {
   "cell_type": "code",
   "execution_count": 9,
   "metadata": {},
   "outputs": [
    {
     "data": {
      "text/plain": [
       "['1_element', '2_element', '3_element', '4_element']"
      ]
     },
     "execution_count": 9,
     "metadata": {},
     "output_type": "execute_result"
    },
    {
     "data": {
      "text/plain": [
       "['2_element', '3_element', '4_element', '5_element']"
      ]
     },
     "execution_count": 9,
     "metadata": {},
     "output_type": "execute_result"
    },
    {
     "data": {
      "text/plain": [
       "['3_element', '4_element', '5_element']"
      ]
     },
     "execution_count": 9,
     "metadata": {},
     "output_type": "execute_result"
    },
    {
     "data": {
      "text/plain": [
       "[0, 1, 4, 9, 16, 25, 36, 49, 64, 81]"
      ]
     },
     "execution_count": 9,
     "metadata": {},
     "output_type": "execute_result"
    },
    {
     "data": {
      "text/plain": [
       "[0, 1, 4, 9, 16, 25, 36, 49, 64, 81]"
      ]
     },
     "execution_count": 9,
     "metadata": {},
     "output_type": "execute_result"
    },
    {
     "data": {
      "text/plain": [
       "[0, 2, 4, 6, 8, 10, 12, 14, 16, 18]"
      ]
     },
     "execution_count": 9,
     "metadata": {},
     "output_type": "execute_result"
    },
    {
     "data": {
      "text/plain": [
       "[0, 2, 4, 6, 8, 10, 12, 14, 16, 18]"
      ]
     },
     "execution_count": 9,
     "metadata": {},
     "output_type": "execute_result"
    },
    {
     "data": {
      "text/plain": [
       "['H', 'W']"
      ]
     },
     "execution_count": 9,
     "metadata": {},
     "output_type": "execute_result"
    },
    {
     "data": {
      "text/plain": [
       "['H', 'W']"
      ]
     },
     "execution_count": 9,
     "metadata": {},
     "output_type": "execute_result"
    },
    {
     "name": "stdout",
     "output_type": "stream",
     "text": [
      "{1, 2, 3, 4, 5}\n",
      "{2, 3, 4}\n",
      "{1}\n",
      "{1, 5}\n"
     ]
    },
    {
     "data": {
      "text/plain": [
       "False"
      ]
     },
     "execution_count": 9,
     "metadata": {},
     "output_type": "execute_result"
    },
    {
     "data": {
      "text/plain": [
       "False"
      ]
     },
     "execution_count": 9,
     "metadata": {},
     "output_type": "execute_result"
    },
    {
     "data": {
      "text/plain": [
       "4"
      ]
     },
     "execution_count": 9,
     "metadata": {},
     "output_type": "execute_result"
    },
    {
     "data": {
      "text/plain": [
       "0"
      ]
     },
     "execution_count": 9,
     "metadata": {},
     "output_type": "execute_result"
    },
    {
     "name": "stdout",
     "output_type": "stream",
     "text": [
      "Delhi\n",
      "Mumbai\n"
     ]
    }
   ],
   "source": [
    "# how slicing works in python\n",
    "\n",
    "my_list = ['1_element', '2_element', '3_element','4_element','5_element']\n",
    "\n",
    "# slicing last element\n",
    "my_list[:-1]\n",
    "\n",
    "# slicing first element\n",
    "my_list[1:]\n",
    "\n",
    "# slcing start at 2 and end at 5\n",
    "my_list[2:5]\n",
    "\n",
    "# list comprehension with corresponding iterative approches\n",
    "\n",
    "[x**2 for x in range(10)]\n",
    "\n",
    "squares = []\n",
    "for num in range(10):\n",
    "    squares.append(num**2)\n",
    "\n",
    "squares\n",
    "\n",
    "[x for x in range(20) if x % 2 == 0]\n",
    "\n",
    "even =[]\n",
    "for x in range(20):\n",
    "    if x % 2 == 0:\n",
    "        even.append(x)\n",
    "even\n",
    "\n",
    "sentence = ('Hello World')\n",
    "[char for char in sentence if char.isupper()]\n",
    "\n",
    "\n",
    "sentence = 'Hello World!'\n",
    "uppercase_letters = []\n",
    "for char in sentence:\n",
    "   if char.isupper():\n",
    "    uppercase_letters.append(char)\n",
    "\n",
    "\n",
    "uppercase_letters\n",
    "\n",
    "# demonstation of most common set methods\n",
    "\n",
    "set_1 = {1, 2, 3, 4}\n",
    "set_2 = {2, 3, 4, 5}\n",
    "\n",
    "union_st = set_1.union(set_2)\n",
    "print(union_st)\n",
    "\n",
    "intersection_st = set_1.intersection(set_2)\n",
    "print(intersection_st)\n",
    "\n",
    "difference_st = set_1.difference(set_2)\n",
    "print(difference_st)\n",
    "\n",
    "symmetric_difference_set = set_1.symmetric_difference(set_2)\n",
    "print(symmetric_difference_set)\n",
    "\n",
    "set_1.issubset(set_2)\n",
    "\n",
    "set_1.issubset(set_2)\n",
    "\n",
    "# Tuples\n",
    "fruits = (\n",
    "    \"Watermelon\", \"Orange\", \"Watermelon\", \"Banana\", \"Orange\",\n",
    "    \"Watermelon\", \"Pear\", \"Watermelon\", \"Orange\", \"Grape\",\n",
    ")\n",
    "\n",
    "fruits.count('Watermelon')\n",
    "\n",
    "fruits.index('Watermelon')\n",
    "\n",
    "# tuples unpacking\n",
    "names = 'Delhi','Mumbai', 'Kolkatta' \n",
    "elem_1, elem_2, elem_3 = names\n",
    "print(elem_1)\n",
    "print(elem_2)\n",
    "\n",
    "\n",
    "\n"
   ]
  },
  {
   "cell_type": "code",
   "execution_count": 4,
   "metadata": {},
   "outputs": [
    {
     "data": {
      "text/plain": [
       "dict_keys(['name', 'age', 'address', 'interests'])"
      ]
     },
     "execution_count": 4,
     "metadata": {},
     "output_type": "execute_result"
    },
    {
     "data": {
      "text/plain": [
       "['name', 'age', 'address', 'interests']"
      ]
     },
     "execution_count": 4,
     "metadata": {},
     "output_type": "execute_result"
    },
    {
     "data": {
      "text/plain": [
       "dict_values(['John', 30, {'street': '123 Main St', 'city': 'Cityville', 'zip': '12345'}, ['coding', 'reading', 'hiking']])"
      ]
     },
     "execution_count": 4,
     "metadata": {},
     "output_type": "execute_result"
    },
    {
     "data": {
      "text/plain": [
       "['John',\n",
       " 30,\n",
       " {'street': '123 Main St', 'city': 'Cityville', 'zip': '12345'},\n",
       " ['coding', 'reading', 'hiking']]"
      ]
     },
     "execution_count": 4,
     "metadata": {},
     "output_type": "execute_result"
    },
    {
     "data": {
      "text/plain": [
       "<function dict.items>"
      ]
     },
     "execution_count": 4,
     "metadata": {},
     "output_type": "execute_result"
    },
    {
     "data": {
      "text/plain": [
       "[('name', 'John'),\n",
       " ('age', 30),\n",
       " ('address', {'street': '123 Main St', 'city': 'Cityville', 'zip': '12345'}),\n",
       " ('interests', ['coding', 'reading', 'hiking'])]"
      ]
     },
     "execution_count": 4,
     "metadata": {},
     "output_type": "execute_result"
    },
    {
     "name": "stdout",
     "output_type": "stream",
     "text": [
      "25\n",
      "{1: 1, 2: 4, 3: 9, 4: 16, 5: 25}\n"
     ]
    }
   ],
   "source": [
    "data = {\n",
    "    \"name\": \"John\",\n",
    "    \"age\": 30,\n",
    "    \"address\": {\n",
    "        \"street\": \"123 Main St\",\n",
    "        \"city\": \"Cityville\",\n",
    "        \"zip\": \"12345\"\n",
    "    },\n",
    "    \"interests\": [\"coding\", \"reading\", \"hiking\"]\n",
    "}\n",
    "\n",
    "# extracting keys\n",
    "\n",
    "data.keys()\n",
    "\n",
    "list(data.keys())\n",
    "\n",
    "data.values()\n",
    "\n",
    "list(data.values())\n",
    "\n",
    "# obtaining keys and values as tuples\n",
    "\n",
    "data.items\n",
    "\n",
    "list(data.items())\n",
    "\n",
    "# dictionary comprehensions\n",
    "\n",
    "# using loops\n",
    "\n",
    "\n",
    "squres = []\n",
    "for x in range(1, 6):\n",
    "    squres = x * x\n",
    "print(squres)\n",
    "\n",
    "# using dictionary comprehension\n",
    "\n",
    "squres = {\n",
    "    x: x*x for x in range(1, 6)\n",
    "}\n",
    "print(squres)\n",
    "\n",
    "# even odd detection\n",
    "\n",
    "# using loops\n",
    "\n",
    "numbers = [1, 2, 3, 4, 5]\n",
    "even_odd = {}\n",
    "\n",
    "for num in numbers:\n",
    "    if num % 2 == 0:\n",
    "        even_odd[num] = 'even'\n",
    "    else:\n",
    "        even_odd[num] = 'odd'\n",
    "\n",
    "print(even_odd)\n",
    "\n",
    "[num: 'even' if num % 2 == 0 else 'odd' for ]\n",
    "\n"
   ]
  },
  {
   "cell_type": "code",
   "execution_count": 6,
   "metadata": {},
   "outputs": [
    {
     "name": "stdout",
     "output_type": "stream",
     "text": [
      "{'apple': 5, 'mango': 5, 'banana': 6}\n",
      "{'apple': 5, 'mango': 5, 'banana': 6}\n",
      "banana\n"
     ]
    }
   ],
   "source": [
    "# length of word\n",
    "\n",
    "fruits = ['apple', 'mango','banana']\n",
    " \n",
    "# using traditional loop\n",
    "\n",
    "word_lenght = {}\n",
    "for word in fruits:\n",
    "    word_lenght[word] = len(word)\n",
    "\n",
    "print(word_lenght)\n",
    "\n",
    "# using comprehension\n",
    "\n",
    "word_lenght = {\n",
    "    word: len(word) for word in fruits \n",
    "}\n",
    "print(word_lenght)\n",
    "\n",
    "# converting list to dict\n",
    "\n",
    "# using loop\n",
    " \n",
    "fruit_dict = {}\n",
    "for fruit in fruits:\n",
    "    fruit_dict[fruit] = f' I am {fruit}'\n",
    "\n",
    "\n",
    "fruit_dict= {\n",
    "fruit: f' I am {fruit}' for fruit in fruits\n",
    "}\n",
    "\n",
    "print(fruit)\n",
    "\n"
   ]
  },
  {
   "cell_type": "code",
   "execution_count": 9,
   "metadata": {},
   "outputs": [
    {
     "name": "stdout",
     "output_type": "stream",
     "text": [
      "{'name': 'Alice', 'age': 28, 'city': 'New York'}\n"
     ]
    }
   ],
   "source": [
    "# creating dic from two list\n",
    "\n",
    "keys = ['name', 'age', 'city']\n",
    "values = ['Alice', 28, 'New York']\n",
    "\n",
    "# using loop method\n",
    "\n",
    "person_info = {}\n",
    "\n",
    "for i in range(len(keys)):\n",
    "    person_info[keys[i]] = values[i]\n",
    "\n",
    "print(person_info)\n",
    "\n",
    "# using dict comprehension\n",
    "person_info = {\n",
    "    keys[i]: values[i] for i  in range(len(keys)) \n",
    "}"
   ]
  },
  {
   "cell_type": "code",
   "execution_count": 10,
   "metadata": {},
   "outputs": [
    {
     "data": {
      "text/plain": [
       "1"
      ]
     },
     "execution_count": 10,
     "metadata": {},
     "output_type": "execute_result"
    }
   ],
   "source": [
    "n = 5 # half value = 2\n",
    "n = 4 # half value = 2\n",
    "(n -1) // 2"
   ]
  },
  {
   "cell_type": "code",
   "execution_count": 6,
   "metadata": {},
   "outputs": [
    {
     "name": "stdout",
     "output_type": "stream",
     "text": [
      "1\n",
      "2\n",
      "3\n",
      "4\n",
      "5\n",
      "6\n",
      "7\n",
      "8\n",
      "9\n"
     ]
    }
   ],
   "source": [
    "n = 3\n",
    "for i in range(n):\n",
    "    for j in range(n):\n",
    "        # print(i*3+j+1)\n",
    "        print(i*3+j+1)"
   ]
  },
  {
   "cell_type": "code",
   "execution_count": 3,
   "metadata": {},
   "outputs": [
    {
     "name": "stdout",
     "output_type": "stream",
     "text": [
      "9\n"
     ]
    }
   ],
   "source": [
    "def square(x):\n",
    "    return x**2\n",
    "print(square(3))"
   ]
  },
  {
   "cell_type": "code",
   "execution_count": 2,
   "metadata": {},
   "outputs": [
    {
     "name": "stdout",
     "output_type": "stream",
     "text": [
      "15\n",
      "11\n"
     ]
    }
   ],
   "source": [
    "def add(x,y):\n",
    "    return x+y\n",
    "print(add(5,10))\n",
    "print(add(8,3))"
   ]
  },
  {
   "cell_type": "code",
   "execution_count": 5,
   "metadata": {},
   "outputs": [
    {
     "name": "stdout",
     "output_type": "stream",
     "text": [
      "Hello vidhatri\n"
     ]
    }
   ],
   "source": [
    "def say_hello(name):\n",
    "    print(f'Hello {name}')\n",
    "\n",
    "say_hello('vidhatri')"
   ]
  },
  {
   "cell_type": "code",
   "execution_count": 8,
   "metadata": {},
   "outputs": [
    {
     "data": {
      "text/plain": [
       "125"
      ]
     },
     "execution_count": 8,
     "metadata": {},
     "output_type": "execute_result"
    },
    {
     "data": {
      "text/plain": [
       "1024"
      ]
     },
     "execution_count": 8,
     "metadata": {},
     "output_type": "execute_result"
    }
   ],
   "source": [
    "def exponent(base, power):\n",
    "    return base**power\n",
    "exponent(5,3)\n",
    "exponent(2,10)"
   ]
  },
  {
   "cell_type": "code",
   "execution_count": 11,
   "metadata": {},
   "outputs": [
    {
     "data": {
      "text/plain": [
       "False"
      ]
     },
     "execution_count": 11,
     "metadata": {},
     "output_type": "execute_result"
    },
    {
     "data": {
      "text/plain": [
       "True"
      ]
     },
     "execution_count": 11,
     "metadata": {},
     "output_type": "execute_result"
    }
   ],
   "source": [
    "def naive_search(lst,value):\n",
    "    for x in lst:\n",
    "        if x == value:\n",
    "            return True\n",
    "    return False\n",
    "lst =[ 2,3,5,7,2]\n",
    "naive_search(lst,15)\n",
    "naive_search(lst,5)"
   ]
  },
  {
   "cell_type": "code",
   "execution_count": 13,
   "metadata": {},
   "outputs": [
    {
     "name": "stdout",
     "output_type": "stream",
     "text": [
      "44\n"
     ]
    }
   ],
   "source": [
    "n = 3\n",
    "vector_1 = [6,2,4]\n",
    "vector_2 = [5,1,3]\n",
    "\n",
    "ans = 0\n",
    "\n",
    "for i in range(n):\n",
    "    product = vector_1[i]* vector_2[i]\n",
    "    ans += product\n",
    "\n",
    "print(ans)"
   ]
  },
  {
   "cell_type": "code",
   "execution_count": 15,
   "metadata": {},
   "outputs": [],
   "source": [
    "def dot_product(n, vector_1, vector_2):\n",
    "    ans = 0\n",
    "    for i in range(n):\n",
    "        product = vector_1[i]* vector_2[i]\n",
    "        ans += product\n",
    "\n",
    "    return ans\n"
   ]
  },
  {
   "cell_type": "code",
   "execution_count": 16,
   "metadata": {},
   "outputs": [
    {
     "data": {
      "text/plain": [
       "12"
      ]
     },
     "execution_count": 16,
     "metadata": {},
     "output_type": "execute_result"
    }
   ],
   "source": [
    "dot_product(2,[3,3],[2,2])"
   ]
  },
  {
   "cell_type": "code",
   "execution_count": 21,
   "metadata": {},
   "outputs": [
    {
     "name": "stdout",
     "output_type": "stream",
     "text": [
      "[9, 6, 5, 5, 2, 2, 2]\n",
      "[]\n"
     ]
    }
   ],
   "source": [
    "L = [2,5,6,2,9,5,2]\n",
    "\n",
    "sorted_L = []\n",
    "\n",
    "\n",
    "while len(L)> 0:\n",
    "    max = float('-inf')\n",
    "    for number in L:\n",
    "        if number > max:\n",
    "            max = number\n",
    "    L.remove(max)\n",
    "    sorted_L.append(max)\n",
    "\n",
    "print(sorted_L)\n",
    "print(L)\n",
    "\n",
    "\n"
   ]
  },
  {
   "cell_type": "code",
   "execution_count": null,
   "metadata": {},
   "outputs": [],
   "source": [
    "matrix_a = [\n",
    "    1,2,3\n",
    "    4,5,6\n",
    "]\n",
    "# m x n \n",
    "matrix_b = [\n",
    "    [7,8]\n",
    "    [9,10]\n",
    "    [11,12]\n",
    "]\n",
    "# n x p\n",
    "\n",
    "m = len(matrix_a) # no. of rows in matrix\n",
    "\n",
    "n = len(matrix_b[0])\n",
    "\n",
    "product_matrix = [[ 0 for i in range(m)] for i in range(m)]\n",
    "\n",
    "for i in range(m):\n",
    "    for j in range(n):\n",
    "        sigma = 0\n",
    "\n",
    "    for k in range(len(matrix_b)):\n",
    "        sigma += matrix_a[i][j] *matrix_b[k][j]\n",
    "        product_matrix[i][j] = "
   ]
  },
  {
   "cell_type": "code",
   "execution_count": 9,
   "metadata": {},
   "outputs": [
    {
     "name": "stdout",
     "output_type": "stream",
     "text": [
      "[[58, 64], [139, 154]]\n"
     ]
    }
   ],
   "source": [
    "matrix_a =[\n",
    "    [1, 2, 3],\n",
    "    [4, 5, 6],\n",
    "]\n",
    "\n",
    "matrix_b = [\n",
    "    [7, 8],\n",
    "    [9, 10],\n",
    "    [11, 12]\n",
    "]\n",
    "\n",
    "m = len(matrix_a) #no. of rows in matrix_a and row in product\n",
    "n = len(matrix_b) # for k in range(n)\n",
    "p = len(matrix_b[0]) # no. of col in matrix_b and cols in product\n",
    "\n",
    "# print(matrix_a, m,n)\n",
    "# print(matrix_b, n, p)\n",
    "\n",
    "# skeletal of product mat\n",
    "\n",
    "product_matrix = [[\n",
    "    0 for i in range(p)\n",
    "]for i in range(m)]\n",
    "\n",
    "# print(product_matrix)\n",
    "\n",
    "# nested loop for indexing\n",
    "\n",
    "for i in range(m):\n",
    "    for j in range(p):\n",
    "        sigma = 0\n",
    "        # sigma calc approch 1\n",
    "        for k in range(n):\n",
    "            sigma += matrix_a[i][k]*matrix_b[k][j]  \n",
    "        product_matrix[i][j] = sigma\n",
    "print(product_matrix)\n"
   ]
  },
  {
   "cell_type": "code",
   "execution_count": 10,
   "metadata": {},
   "outputs": [
    {
     "name": "stdout",
     "output_type": "stream",
     "text": [
      "[[58, 64], [139, 154]]\n"
     ]
    }
   ],
   "source": [
    "matrix_a =[\n",
    "    [1, 2, 3],\n",
    "    [4, 5, 6],\n",
    "]\n",
    "\n",
    "matrix_b = [\n",
    "    [7, 8],\n",
    "    [9, 10],\n",
    "    [11, 12]\n",
    "]\n",
    "\n",
    "m = len(matrix_a) #no. of rows in matrix_a and row in product\n",
    "n = len(matrix_b) # for k in range(n)\n",
    "p = len(matrix_b[0]) # no. of col in matrix_b and cols in product\n",
    "\n",
    "# print(matrix_a, m,n)\n",
    "# print(matrix_b, n, p)\n",
    "\n",
    "# skeletal of product mat\n",
    "\n",
    "product_matrix = [[\n",
    "    0 for i in range(p)\n",
    "]for i in range(m)]\n",
    "\n",
    "# print(product_matrix)\n",
    "\n",
    "# nested loop for indexing\n",
    "\n",
    "for i in range(m):\n",
    "    for j in range(p):\n",
    "        sigma = 0\n",
    "        # sigma calc approch 2\n",
    "        i_row_vector = matrix_a[i]\n",
    "        j_col_vector = [row[j] for row in matrix_b] \n",
    "        for k in range(len(i_row_vector)):\n",
    "            sigma += i_row_vector[k] * j_col_vector[k]\n",
    "        product_matrix[i][j] = sigma\n",
    "print(product_matrix)\n"
   ]
  },
  {
   "cell_type": "code",
   "execution_count": 47,
   "metadata": {},
   "outputs": [
    {
     "data": {
      "text/plain": [
       "[4, 5, 6]"
      ]
     },
     "execution_count": 47,
     "metadata": {},
     "output_type": "execute_result"
    },
    {
     "data": {
      "text/plain": [
       "[3, 6]"
      ]
     },
     "execution_count": 47,
     "metadata": {},
     "output_type": "execute_result"
    },
    {
     "data": {
      "text/plain": [
       "6"
      ]
     },
     "execution_count": 47,
     "metadata": {},
     "output_type": "execute_result"
    }
   ],
   "source": [
    "matrix_a =[\n",
    "    [1, 2, 3],\n",
    "    [4, 5, 6],\n",
    "]\n",
    "\n",
    "matrix_b = [\n",
    "    [7, 8],\n",
    "    [9, 10],\n",
    "    [11, 12]\n",
    "]\n",
    "\n",
    "matrix_a[1] # to obtain row\n",
    "[row[2] for row in matrix_a] # to obtain col\n",
    "matrix_a[1][2] # to obtain elem"
   ]
  },
  {
   "cell_type": "code",
   "execution_count": 20,
   "metadata": {},
   "outputs": [
    {
     "data": {
      "text/plain": [
       "['Hello',\n",
       " 'Hello',\n",
       " 'Hello',\n",
       " 'Hello',\n",
       " 'Hello',\n",
       " 'Hello',\n",
       " 'Hello',\n",
       " 'Hello',\n",
       " 'Hello',\n",
       " 'Hello']"
      ]
     },
     "execution_count": 20,
     "metadata": {},
     "output_type": "execute_result"
    }
   ],
   "source": [
    "[\"Hello\" for x in range(10)]"
   ]
  },
  {
   "cell_type": "code",
   "execution_count": 53,
   "metadata": {},
   "outputs": [],
   "source": [
    "matrix_a =[\n",
    "    [1, 2, 3],\n",
    "    [4, 5, 6],\n",
    "]\n",
    "\n",
    "matrix_b = [\n",
    "    [7, 8],\n",
    "    [9, 10],\n",
    "    [11, 12]\n",
    "]"
   ]
  },
  {
   "cell_type": "code",
   "execution_count": 58,
   "metadata": {},
   "outputs": [
    {
     "data": {
      "text/plain": [
       "58"
      ]
     },
     "execution_count": 58,
     "metadata": {},
     "output_type": "execute_result"
    },
    {
     "data": {
      "text/plain": [
       "64"
      ]
     },
     "execution_count": 58,
     "metadata": {},
     "output_type": "execute_result"
    },
    {
     "data": {
      "text/plain": [
       "139"
      ]
     },
     "execution_count": 58,
     "metadata": {},
     "output_type": "execute_result"
    },
    {
     "data": {
      "text/plain": [
       "154"
      ]
     },
     "execution_count": 58,
     "metadata": {},
     "output_type": "execute_result"
    }
   ],
   "source": [
    "# def a function\n",
    "\n",
    "def get_ith_row(matrix, i):\n",
    "    '''give me a matrix i will give back ith row of that matrix'''\n",
    "    return matrix[i]\n",
    "\n",
    "\n",
    "def get_jth_col(matrix, j):\n",
    "    '''give me a matrix i will give back jth col of that matrix'''\n",
    "    return [row[j] for row in matrix]\n",
    "\n",
    "def dot_product(vector_1, vector_2):\n",
    "    '''give me 2 matrix i will give dot product of those matrix.'''\n",
    "    '''this is the scalar value i.e, it's a number'''\n",
    "\n",
    "    sigma = 0\n",
    "    for i in range(len(vector_1)):\n",
    "        sigma += vector_1[i] * vector_2[i]\n",
    "    return sigma\n",
    "    \n",
    "\n",
    "for i in range(len(matrix_a)): # this is the rows of matrix_a\n",
    "    for j in range(len(matrix_b[0])):\n",
    "        i_row_vector = get_ith_row(matrix_a, i)\n",
    "        j_col_vector = get_jth_col(matrix_b, j)\n",
    "        dot_product(i_row_vector, j_col_vector)\n",
    "\n",
    "           \n",
    "\n",
    "# i_row_vector = get_ith_row(matrix_a, 0)\n",
    "# j_col_vector = get_jth_col(matrix_b, 0)\n",
    "# dot_product(i_row_vector, j_col_vector)\n",
    "\n",
    "# i_row_vector = get_ith_row(matrix_a, 0)\n",
    "# j_col_vector = get_jth_col(matrix_b, 1)\n",
    "# dot_product(i_row_vector, j_col_vector)\n",
    "\n",
    "# i_row_vector = get_ith_row(matrix_a, 1)\n",
    "# j_col_vector = get_jth_col(matrix_b, 0)\n",
    "# dot_product(i_row_vector, j_col_vector)\n",
    "\n",
    "# i_row_vector = get_ith_row(matrix_a, 1)\n",
    "# j_col_vector = get_jth_col(matrix_b, 1)\n",
    "# dot_product(i_row_vector, j_col_vector)\n",
    "\n"
   ]
  },
  {
   "cell_type": "code",
   "execution_count": 60,
   "metadata": {},
   "outputs": [
    {
     "data": {
      "text/plain": [
       "[[58, 64], [139, 154]]"
      ]
     },
     "execution_count": 60,
     "metadata": {},
     "output_type": "execute_result"
    }
   ],
   "source": [
    "matrix_a =[\n",
    "    [1, 2, 3],\n",
    "    [4, 5, 6],\n",
    "]\n",
    "\n",
    "matrix_b = [\n",
    "    [7, 8],\n",
    "    [9, 10],\n",
    "    [11, 12]\n",
    "]\n",
    "\n",
    "m = len(matrix_a)\n",
    "p = len(matrix_b[0])\n",
    "\n",
    "product_matrix = [[\n",
    "    0 for j in range(p)\n",
    "]for i in range(m)]\n",
    "\n",
    "# product_matrix\n",
    "\n",
    "for i in range(m):\n",
    "    for j in range(p):\n",
    "        sigma = 0\n",
    "        i_row = matrix_a[i]\n",
    "        j_col = [row[j] for row in matrix_b]\n",
    "        for k in range(len(i_row)):\n",
    "            sigma += i_row[k]*j_col[k]\n",
    "        product_matrix[i][j] = sigma\n",
    "product_matrix"
   ]
  },
  {
   "cell_type": "code",
   "execution_count": 62,
   "metadata": {},
   "outputs": [
    {
     "data": {
      "text/plain": [
       "[[58, 64], [139, 154]]"
      ]
     },
     "execution_count": 62,
     "metadata": {},
     "output_type": "execute_result"
    }
   ],
   "source": [
    "matrix_a =[\n",
    "    [1, 2, 3],\n",
    "    [4, 5, 6],\n",
    "]\n",
    "\n",
    "matrix_b = [\n",
    "    [7, 8],\n",
    "    [9, 10],\n",
    "    [11, 12]\n",
    "]\n",
    "\n",
    "m = len(matrix_a)\n",
    "p = len(matrix_b[0])\n",
    "\n",
    "product_matrix = [[\n",
    "    0 for j in range(p)\n",
    "]for i in range(m)]\n",
    "\n",
    "# product_matrix\n",
    "\n",
    "for i in range(m):\n",
    "    for j in range(p):\n",
    "        i_row = get_ith_row(i=i, matrix=matrix_a)\n",
    "        j_col = get_jth_col(j=j, matrix=matrix_b)\n",
    "        sigma = dot_product(vector_1=i_row, vector_2=j_col)\n",
    "        product_matrix[i][j] = sigma\n",
    "product_matrix"
   ]
  },
  {
   "cell_type": "code",
   "execution_count": null,
   "metadata": {},
   "outputs": [],
   "source": [
    "matrix_a =[\n",
    "    [1, 2, 3],\n",
    "    [4, 5, 6],\n",
    "]\n",
    "\n",
    "matrix_b = [\n",
    "    [7, 8],\n",
    "    [9, 10],\n",
    "    [11, 12]\n",
    "]\n",
    "\n",
    "m = len(matrix_a)\n",
    "p = len(matrix_b[0])\n",
    "n = len(matrix_b)\n",
    "\n",
    "product_matrix = [[\n",
    "    0 for j in range(p)\n",
    "]for i in range(m)]\n",
    "\n",
    "# product_matrix\n",
    "\n",
    "for i in range(m):\n",
    "    for j in range(p):\n",
    "        sigma = 0\n",
    "        for k in range(n):\n",
    "            sigma += matrix_a[i][k] * matrix_b[k][j]    \n",
    "        product_matrix[i][j] = sigma\n",
    "product_matrix"
   ]
  },
  {
   "cell_type": "markdown",
   "metadata": {},
   "source": [
    "1. 1st approch: i,k * k,j  directly applied on matrix\n",
    "2. 2nd approch: i_row, j_col     (dot product)\n",
    "    1. manually calc\n",
    "    2. use functions to calc i_row, j_col"
   ]
  },
  {
   "cell_type": "code",
   "execution_count": 2,
   "metadata": {},
   "outputs": [
    {
     "data": {
      "text/plain": [
       "False"
      ]
     },
     "execution_count": 2,
     "metadata": {},
     "output_type": "execute_result"
    },
    {
     "data": {
      "text/plain": [
       "True"
      ]
     },
     "execution_count": 2,
     "metadata": {},
     "output_type": "execute_result"
    }
   ],
   "source": [
    "def twin_prime(p, q):\n",
    "    if abs(p-q) == 2:\n",
    "        return True\n",
    "    else:\n",
    "        return False\n",
    "    \n",
    "twin_prime(4,8)\n",
    "twin_prime(8, 6)"
   ]
  }
 ],
 "metadata": {
  "kernelspec": {
   "display_name": "Python 3",
   "language": "python",
   "name": "python3"
  },
  "language_info": {
   "codemirror_mode": {
    "name": "ipython",
    "version": 3
   },
   "file_extension": ".py",
   "mimetype": "text/x-python",
   "name": "python",
   "nbconvert_exporter": "python",
   "pygments_lexer": "ipython3",
   "version": "3.12.2"
  }
 },
 "nbformat": 4,
 "nbformat_minor": 2
}

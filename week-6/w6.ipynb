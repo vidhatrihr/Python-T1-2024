{
 "cells": [
  {
   "cell_type": "code",
   "execution_count": 2,
   "metadata": {},
   "outputs": [
    {
     "data": {
      "text/plain": [
       "{'public': 2, 'uber': 4, 'private': 2}"
      ]
     },
     "execution_count": 2,
     "metadata": {},
     "output_type": "execute_result"
    }
   ],
   "source": [
    "words = ['public', 'uber', 'private', 'uber',\n",
    "         'public', 'uber', 'private', 'uber']\n",
    "\n",
    "freq ={}\n",
    "\n",
    "for word in words:\n",
    "    if word not in freq:\n",
    "        freq[word] = 0\n",
    "    freq[word] += 1\n",
    "\n",
    "freq"
   ]
  },
  {
   "cell_type": "code",
   "execution_count": 2,
   "metadata": {},
   "outputs": [
    {
     "name": "stdout",
     "output_type": "stream",
     "text": [
      "two\n",
      "eight\n",
      "three\n",
      "seven\n",
      "nine\n"
     ]
    }
   ],
   "source": [
    "number = '28379'\n",
    "\n",
    "digit_to_word ={\n",
    "    '1': 'one',\n",
    "    '2': 'two',\n",
    "    '3': 'three',\n",
    "    '4': 'four',\n",
    "    '5': 'five',\n",
    "    '6': 'six',\n",
    "    '7': 'seven',\n",
    "    '8': 'eight',\n",
    "    '9': 'nine',\n",
    "    '0': 'zero',\n",
    "}\n",
    "\n",
    "for digit in number:\n",
    "    print(digit_to_word[digit])"
   ]
  },
  {
   "cell_type": "code",
   "execution_count": 1,
   "metadata": {},
   "outputs": [
    {
     "name": "stdout",
     "output_type": "stream",
     "text": [
      "None\n"
     ]
    }
   ],
   "source": [
    "dict = {'good': 'day', 'day':'3'}\n",
    "\n",
    "def is_key(D,key):\n",
    "    return key in D\n",
    "def value(D, key):\n",
    "    if not is_key(D, key):\n",
    "        return None\n",
    "    return D[key]\n",
    "# is_key(D= dict, key= good)\n",
    "# is_key(D= dict, key= day)\n",
    "\n",
    "print(value(dict, 'bad'))"
   ]
  },
  {
   "cell_type": "code",
   "execution_count": 1,
   "metadata": {},
   "outputs": [
    {
     "data": {
      "text/plain": [
       "['rahul', 'vidhatri']"
      ]
     },
     "execution_count": 1,
     "metadata": {},
     "output_type": "execute_result"
    }
   ],
   "source": [
    "marks = {\n",
    "    'rahul': 90,\n",
    "    'vidhatri': 90,\n",
    "    'sanika': 89,\n",
    "    'cmd':93,   \n",
    "}\n",
    "\n",
    "def value_to_keys(D, value):\n",
    "    keys_to_return = []\n",
    "\n",
    "    for key in D.keys():\n",
    "        if D[key] == value:\n",
    "            keys_to_return.append(key)    \n",
    "    return keys_to_return\n",
    "\n",
    "value_to_keys(marks, 90)\n",
    "\n",
    "    "
   ]
  },
  {
   "cell_type": "code",
   "execution_count": 2,
   "metadata": {},
   "outputs": [
    {
     "data": {
      "text/plain": [
       "[('rahul', 90), ('vidhatri', 90), ('sanika', 89), ('cmd', 93)]"
      ]
     },
     "execution_count": 2,
     "metadata": {},
     "output_type": "execute_result"
    }
   ],
   "source": [
    "def dict_to_list(D):\n",
    "    return list(D.items())\n",
    "\n",
    "dict_to_list(marks)\n",
    "\n"
   ]
  },
  {
   "cell_type": "code",
   "execution_count": 4,
   "metadata": {},
   "outputs": [
    {
     "data": {
      "text/plain": [
       "{'rahul': 90, 'vidhatri': 96, 'sanika': 89, 'cmd': 93}"
      ]
     },
     "execution_count": 4,
     "metadata": {},
     "output_type": "execute_result"
    }
   ],
   "source": [
    "new_list = [('rahul', 90), ('vidhatri', 96), ('sanika', 89), ('cmd', 93)]\n",
    "\n",
    "def list_to_dict(L):\n",
    "    new_dict ={}\n",
    "\n",
    "    for key, value in L:\n",
    "        new_dict[key] = value\n",
    "\n",
    "    return new_dict\n",
    "list_to_dict(new_list)"
   ]
  },
  {
   "cell_type": "code",
   "execution_count": 7,
   "metadata": {},
   "outputs": [
    {
     "data": {
      "text/plain": [
       "('Devika', 85)"
      ]
     },
     "execution_count": 7,
     "metadata": {},
     "output_type": "execute_result"
    }
   ],
   "source": [
    "entry = {'SeqNo': 1, 'Name': 'Devika', 'Gender': 'F', 'City': 'Bengaluru', 'Mathematics': 85, 'Physics': 100, 'Chemistry': 79, 'Biology': 75, 'Computer Science': 88, 'History': 60, 'Civics': 88, 'Philosophy': 95}\n",
    "\n",
    "(entry['Name'],entry['Mathematics'])\n"
   ]
  },
  {
   "cell_type": "code",
   "execution_count": 10,
   "metadata": {},
   "outputs": [
    {
     "data": {
      "text/plain": [
       "[('sanika', 85), ('Devika', 89), ('rahul', 85), ('vidhatri', 83)]"
      ]
     },
     "execution_count": 10,
     "metadata": {},
     "output_type": "execute_result"
    }
   ],
   "source": [
    "dataset = [\n",
    "    {'SeqNo': 1, 'Name': 'sanika', 'Gender': 'F', 'City': 'Bengaluru', 'Mathematics': 85, 'Physics': 100, 'Chemistry': 79, 'Biology': 75, 'Computer Science': 88, 'History': 60, 'Civics': 88, 'Philosophy': 95},\n",
    "    {'SeqNo': 2, 'Name': 'Devika', 'Gender': 'F', 'City': 'Bengaluru', 'Mathematics': 89, 'Physics': 100, 'Chemistry': 79, 'Biology': 75, 'Computer Science': 88, 'History': 60, 'Civics': 88, 'Philosophy': 95},\n",
    "    {'SeqNo': 3, 'Name': 'rahul', 'Gender': 'F', 'City': 'Bengaluru', 'Mathematics': 85, 'Physics': 100, 'Chemistry': 79, 'Biology': 75, 'Computer Science': 88, 'History': 60, 'Civics': 88, 'Philosophy': 95},\n",
    "    {'SeqNo': 1, 'Name': 'vidhatri', 'Gender': 'F', 'City': 'Bengaluru', 'Mathematics': 83, 'Physics': 100, 'Chemistry': 79, 'Biology': 75, 'Computer Science': 88, 'History': 60, 'Civics': 88, 'Philosophy': 95},\n",
    "]\n",
    "\n",
    "pair_list = []\n",
    "for entry in dataset:\n",
    "    pair = (entry['Name'], entry['Mathematics'])\n",
    "    pair_list.append(pair)\n",
    "\n",
    "    # print(pair)\n",
    "\n",
    "pair_list"
   ]
  },
  {
   "cell_type": "code",
   "execution_count": 14,
   "metadata": {},
   "outputs": [
    {
     "data": {
      "text/plain": [
       "[('sanika', 85), ('Devika', 89), ('rahul', 85), ('vidhatri', 83)]"
      ]
     },
     "execution_count": 14,
     "metadata": {},
     "output_type": "execute_result"
    }
   ],
   "source": [
    "def get_marks(dataset, subject):\n",
    "    pair_list = []\n",
    "\n",
    "    for entry in dataset:\n",
    "        pair = (entry['Name'], entry[subject])\n",
    "        pair_list.append(pair)\n",
    "\n",
    "    return pair_list\n",
    "\n",
    "get_marks(dataset=dataset, subject='Mathematics')"
   ]
  },
  {
   "cell_type": "code",
   "execution_count": 20,
   "metadata": {},
   "outputs": [
    {
     "data": {
      "text/plain": [
       "{1, 2, 5, 10, 19, 38, 95, 190}"
      ]
     },
     "execution_count": 20,
     "metadata": {},
     "output_type": "execute_result"
    }
   ],
   "source": [
    "n = 190\n",
    "\n",
    "factors = set()\n",
    "\n",
    "for i in range(1,n+1):\n",
    "    if n % i == 0:\n",
    "        factors.add(i)\n",
    "\n",
    "factors"
   ]
  },
  {
   "cell_type": "code",
   "execution_count": 22,
   "metadata": {},
   "outputs": [
    {
     "data": {
      "text/plain": [
       "{1, 5, 25}"
      ]
     },
     "execution_count": 22,
     "metadata": {},
     "output_type": "execute_result"
    }
   ],
   "source": [
    "def factors(n):\n",
    "    f = set()\n",
    "\n",
    "    for i in range(1, n+1):\n",
    "        if n % i == 0:\n",
    "            f.add(i)\n",
    "    return f\n",
    "factors(25)"
   ]
  },
  {
   "cell_type": "code",
   "execution_count": 24,
   "metadata": {},
   "outputs": [
    {
     "data": {
      "text/plain": [
       "{1, 3, 5, 15}"
      ]
     },
     "execution_count": 24,
     "metadata": {},
     "output_type": "execute_result"
    },
    {
     "data": {
      "text/plain": [
       "{1, 2, 3, 6, 9, 18}"
      ]
     },
     "execution_count": 24,
     "metadata": {},
     "output_type": "execute_result"
    },
    {
     "data": {
      "text/plain": [
       "{1, 3}"
      ]
     },
     "execution_count": 24,
     "metadata": {},
     "output_type": "execute_result"
    },
    {
     "data": {
      "text/plain": [
       "{1, 3}"
      ]
     },
     "execution_count": 24,
     "metadata": {},
     "output_type": "execute_result"
    }
   ],
   "source": [
    "f1 = factors(15)\n",
    "f2 = factors(18)\n",
    "\n",
    "f1\n",
    "f2\n",
    "\n",
    "f1 & f2\n",
    "f1.intersection(f2)\n",
    "\n"
   ]
  },
  {
   "cell_type": "code",
   "execution_count": 26,
   "metadata": {},
   "outputs": [
    {
     "data": {
      "text/plain": [
       "{1, 3}"
      ]
     },
     "execution_count": 26,
     "metadata": {},
     "output_type": "execute_result"
    }
   ],
   "source": [
    "def common_factors(a, b):\n",
    "    f1 = factors(a)\n",
    "    f2 = factors(b)\n",
    "\n",
    "    return f1 & f2\n",
    "common_factors(15, 18)"
   ]
  },
  {
   "cell_type": "code",
   "execution_count": 32,
   "metadata": {},
   "outputs": [
    {
     "data": {
      "text/plain": [
       "{1: {1},\n",
       " 2: {1, 2},\n",
       " 3: {1, 3},\n",
       " 4: {1, 2, 4},\n",
       " 5: {1, 5},\n",
       " 6: {1, 2, 3, 6},\n",
       " 7: {1, 7},\n",
       " 8: {1, 2, 4, 8},\n",
       " 9: {1, 3, 9},\n",
       " 10: {1, 2, 5, 10},\n",
       " 11: {1, 11},\n",
       " 12: {1, 2, 3, 4, 6, 12},\n",
       " 13: {1, 13},\n",
       " 14: {1, 2, 7, 14},\n",
       " 15: {1, 3, 5, 15}}"
      ]
     },
     "execution_count": 32,
     "metadata": {},
     "output_type": "execute_result"
    }
   ],
   "source": [
    "def factors_upto(n):\n",
    "    new_dict ={}\n",
    "\n",
    "    for i in range(1, n+1):\n",
    "        # print(i,factors(i))\n",
    "        new_dict[i] = factors(i)\n",
    "        \n",
    "    return new_dict\n",
    "factors_upto(15)"
   ]
  },
  {
   "cell_type": "code",
   "execution_count": 10,
   "metadata": {},
   "outputs": [
    {
     "data": {
      "text/plain": [
       "{}"
      ]
     },
     "execution_count": 10,
     "metadata": {},
     "output_type": "execute_result"
    }
   ],
   "source": [
    "sequence_of_words =  ('apple,and,oranges,are,only,fruits')\n",
    "\n",
    "# real_dict = {}\n",
    "\n",
    "# for word in sequence_of_words:\n",
    "#     first = word[0]\n",
    "#     if first not in real_dict:\n",
    "        \n",
    "    # if real_dict.keys() == word[0]:\n",
    "    #     real_dict += word\n",
    "    \n",
    "    \n",
    "keys = set()\n",
    "for word in sequence_of_words:\n",
    "    keys.add(word[0])\n",
    "\n",
    "real_dict = {}\n",
    "\n",
    "for key in keys:\n",
    "    for word in sequence_of_words:\n",
    "        if word[0] == key:\n",
    "            if key not in real_dict:\n",
    "                real_dict[key] =[]\n",
    "            real_dict[key].append(word)\n",
    "\n",
    "\n",
    "            \n"
   ]
  },
  {
   "cell_type": "code",
   "execution_count": 13,
   "metadata": {},
   "outputs": [
    {
     "ename": "KeyError",
     "evalue": "'SeqNo'",
     "output_type": "error",
     "traceback": [
      "\u001b[1;31m---------------------------------------------------------------------------\u001b[0m",
      "\u001b[1;31mKeyError\u001b[0m                                  Traceback (most recent call last)",
      "Cell \u001b[1;32mIn[13], line 9\u001b[0m\n\u001b[0;32m      6\u001b[0m     \u001b[38;5;28;01mfor\u001b[39;00m city \u001b[38;5;129;01min\u001b[39;00m scores_dataset:\n\u001b[0;32m      7\u001b[0m         cities[city] \u001b[38;5;241m==\u001b[39m scores_dataset[city]\n\u001b[1;32m----> 9\u001b[0m \u001b[43mgroup_by_city\u001b[49m\u001b[43m(\u001b[49m\u001b[43mscores_dataset\u001b[49m\u001b[43m)\u001b[49m\n",
      "Cell \u001b[1;32mIn[13], line 7\u001b[0m, in \u001b[0;36mgroup_by_city\u001b[1;34m(scores_dataset)\u001b[0m\n\u001b[0;32m      4\u001b[0m cities \u001b[38;5;241m=\u001b[39m {}\n\u001b[0;32m      6\u001b[0m \u001b[38;5;28;01mfor\u001b[39;00m city \u001b[38;5;129;01min\u001b[39;00m scores_dataset:\n\u001b[1;32m----> 7\u001b[0m     \u001b[43mcities\u001b[49m\u001b[43m[\u001b[49m\u001b[43mcity\u001b[49m\u001b[43m]\u001b[49m \u001b[38;5;241m==\u001b[39m scores_dataset[city]\n",
      "\u001b[1;31mKeyError\u001b[0m: 'SeqNo'"
     ]
    }
   ],
   "source": [
    "scores_dataset = {'SeqNo': 1, 'Name': 'Devika', 'Gender': 'F', 'City': 'Bengaluru', 'Mathematics': 85, 'Physics': 100, 'Chemistry': 79, 'Biology': 75, 'Computer Science': 88, 'History': 60, 'Civics': 88, 'Philosophy': 95}\n",
    "\n",
    "# def group_by_city(scores_dataset):\n",
    "#     cities = {}\n",
    "    \n",
    "#     for city in scores_dataset:\n",
    "#         cities[city] == scores_dataset[city]\n",
    "\n",
    "# group_by_city(scores_dataset)\n",
    "\n",
    "\n",
    "\n",
    "def group_by_city(scores_dataset):\n",
    "    cities = {}\n",
    "\n",
    "\n",
    "    for word in scores_dataset:\n",
    "        \n"
   ]
  }
 ],
 "metadata": {
  "kernelspec": {
   "display_name": "Python 3",
   "language": "python",
   "name": "python3"
  },
  "language_info": {
   "codemirror_mode": {
    "name": "ipython",
    "version": 3
   },
   "file_extension": ".py",
   "mimetype": "text/x-python",
   "name": "python",
   "nbconvert_exporter": "python",
   "pygments_lexer": "ipython3",
   "version": "3.12.2"
  }
 },
 "nbformat": 4,
 "nbformat_minor": 2
}

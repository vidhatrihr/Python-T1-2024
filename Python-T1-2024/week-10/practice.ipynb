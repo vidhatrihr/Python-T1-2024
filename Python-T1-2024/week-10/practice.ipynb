{
 "cells": [
  {
   "cell_type": "code",
   "execution_count": 7,
   "metadata": {},
   "outputs": [
    {
     "name": "stdout",
     "output_type": "stream",
     "text": [
      "0 Bhuvanesh 100\n",
      "1 Harish 150\n"
     ]
    }
   ],
   "source": [
    "class Student:\n",
    "    def __init__(self, roll_no, name, total):\n",
    "      self.roll_no = roll_no\n",
    "      self.name = name\n",
    "      self.total = total\n",
    "\n",
    "    def display(self):\n",
    "       print(self.roll_no, self.name, self.total)\n",
    "    def result(self):\n",
    "       if self.total > 120:\n",
    "          print('Pass')\n",
    "       else: \n",
    "          print('Fail') \n",
    "\n",
    "s0 = Student(0, 'Bhuvanesh', 100)\n",
    "\n",
    "s0.display()\n",
    "\n",
    "s1 = Student(1, 'Harish', 150)\n",
    "\n",
    "s1.display()\n",
    "\n"
   ]
  }
 ],
 "metadata": {
  "kernelspec": {
   "display_name": "Python 3",
   "language": "python",
   "name": "python3"
  },
  "language_info": {
   "codemirror_mode": {
    "name": "ipython",
    "version": 3
   },
   "file_extension": ".py",
   "mimetype": "text/x-python",
   "name": "python",
   "nbconvert_exporter": "python",
   "pygments_lexer": "ipython3",
   "version": "3.12.3"
  }
 },
 "nbformat": 4,
 "nbformat_minor": 2
}

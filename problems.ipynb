{
 "cells": [
  {
   "cell_type": "markdown",
   "metadata": {},
   "source": [
    "- *Flatten Matrix Along Axis*: Flatten a matrix along the specified axis, resulting in a list of all elements arranged either in row-major or column-major order.\n",
    "  \n",
    "- *Clockwise Rotation of a List*: Rotate a list clockwise k times.\n",
    "  \n",
    "- *Special Identity Matrix*: Generate a special identity matrix of size n x n with ones on both diagonals.\n",
    "  \n",
    "- *Matrix Multiplication*: Multiply three matrices A, B, and C, and return the resulting matrix.\n",
    "  \n",
    "- *Evaluate Mathematical Sentence*: Evaluate a mathematical sentence containing only addition and subtraction.\n",
    "\n",
    "- *Check Word Equivalence*: Check if two words are equivalent, meaning they have the same letters in any order."
   ]
  },
  {
   "cell_type": "code",
   "execution_count": 1,
   "metadata": {},
   "outputs": [
    {
     "name": "stdout",
     "output_type": "stream",
     "text": [
      "[1, 2, 3, 4, 5, 6, 7, 8, 9]\n",
      "[1, 4, 7, 2, 5, 8, 3, 6, 9]\n"
     ]
    }
   ],
   "source": [
    "def flatten_matrix(matrix, axis):\n",
    "  \"\"\"\n",
    "  Flatten a matrix along the specified axis, resulting in a list of all elements\n",
    "  arranged either in row-major (axis=0) or column-major (axis=1) order.\n",
    "\n",
    "  Args:\n",
    "      matrix (list): Matrix to flatten.\n",
    "      axis (int): Axis along which to flatten (0 for rows, 1 for columns).\n",
    "\n",
    "  Returns:\n",
    "      list: Flattened matrix.\n",
    "  \"\"\"\n",
    "  result = []\n",
    "\n",
    "  if axis == 0:\n",
    "    for row in matrix:\n",
    "      for elem in row:\n",
    "        result.append(elem)\n",
    "    return result\n",
    "\n",
    "  if axis == 1:\n",
    "    num_col = len(matrix[0])\n",
    "    for j in range(num_col):\n",
    "      col = [row[j] for row in matrix]\n",
    "      for elem in col:\n",
    "        result.append(elem)\n",
    "    return result\n",
    "\n",
    "\n",
    "\n",
    "\n",
    "# Test Case 1\n",
    "matrix = [[1, 2, 3], [4, 5, 6], [7, 8, 9]]\n",
    "axis = 0\n",
    "# Expected: [1, 2, 3, 4, 5, 6, 7, 8, 9]\n",
    "print(flatten_matrix(matrix, axis))\n",
    "\n",
    "# Test Case 2\n",
    "matrix = [[1, 2, 3], [4, 5, 6], [7, 8, 9]]\n",
    "axis = 1\n",
    "# Expected: [1, 4, 7, 2, 5, 8, 3, 6, 9]\n",
    "print(flatten_matrix(matrix, axis))"
   ]
  },
  {
   "cell_type": "code",
   "execution_count": 1,
   "metadata": {},
   "outputs": [
    {
     "name": "stdout",
     "output_type": "stream",
     "text": [
      "[1, 2, 3, 4, 5, 6, 7, 8, 9]\n",
      "[1, 4, 7, 2, 5, 8, 3, 6, 9]\n"
     ]
    }
   ],
   "source": [
    "def flatten_matrix(matrix, axis):\n",
    "\n",
    "    result = []\n",
    "\n",
    "    if axis == 0:\n",
    "        for row in matrix:\n",
    "            for elem in row:\n",
    "                result.append(elem)\n",
    "        return result\n",
    "    \n",
    "    if axis == 1:\n",
    "        new_col = len(matrix[0])\n",
    "        for j in range(new_col):\n",
    "            col = [row[j] for row in matrix]\n",
    "            for elem in col:\n",
    "                result.append(elem)\n",
    "        return result\n",
    "    \n",
    "    # Test Case 1\n",
    "matrix = [[1, 2, 3], [4, 5, 6], [7, 8, 9]]\n",
    "axis = 0\n",
    "# Expected: [1, 2, 3, 4, 5, 6, 7, 8, 9]\n",
    "print(flatten_matrix(matrix, axis))\n",
    "\n",
    "# Test Case 2\n",
    "matrix = [[1, 2, 3], [4, 5, 6], [7, 8, 9]]\n",
    "axis = 1\n",
    "# Expected: [1, 4, 7, 2, 5, 8, 3, 6, 9]\n",
    "print(flatten_matrix(matrix, axis))\n",
    "    \n"
   ]
  },
  {
   "cell_type": "code",
   "execution_count": 8,
   "metadata": {},
   "outputs": [
    {
     "name": "stdout",
     "output_type": "stream",
     "text": [
      "[3, 1, 2]\n",
      "[2, 3, 1]\n"
     ]
    }
   ],
   "source": [
    "def rotate_list_clockwise(lst, k):\n",
    "  \"\"\"\n",
    "  Rotate a list clockwise k times.\n",
    "\n",
    "  Args:\n",
    "      lst (list): List to rotate.\n",
    "      k (int): Number of rotations.\n",
    "\n",
    "  Returns:\n",
    "      list: Rotated list.\n",
    "  \"\"\"\n",
    "  n = len(lst)\n",
    "\n",
    "  new_lst = [0 for i in range(n)]\n",
    "\n",
    "  for i in range(n):\n",
    "    new_i = (i + k) % n\n",
    "    new_lst[new_i] = lst[i]\n",
    "\n",
    "  return new_lst\n",
    "\n",
    "\n",
    "# Test Case 1\n",
    "lst = [1, 2, 3]\n",
    "k = 1\n",
    "# Expected: [3, 1, 2]\n",
    "print(rotate_list_clockwise(lst, k))\n",
    "\n",
    "# Test Case 2\n",
    "lst = [1, 2, 3]\n",
    "k = 2\n",
    "# Expected: [2, 3, 1]\n",
    "print(rotate_list_clockwise(lst, k))"
   ]
  },
  {
   "cell_type": "code",
   "execution_count": 3,
   "metadata": {},
   "outputs": [
    {
     "name": "stdout",
     "output_type": "stream",
     "text": [
      "[2, 3, 1]\n"
     ]
    }
   ],
   "source": [
    "def rotate_list_clockwise(lst, k):\n",
    "\n",
    "    n = len(lst)\n",
    "\n",
    "    new_lst = [0 for i in range(n)]\n",
    "\n",
    "    for i in range(n):\n",
    "        new_i = (i + k) % n\n",
    "        new_lst[new_i] = lst[i]\n",
    "\n",
    "    return new_lst\n",
    "    \n",
    "    # Test Case 2\n",
    "lst = [1, 2, 3]\n",
    "k = 2\n",
    "# Expected: [2, 3, 1]\n",
    "print(rotate_list_clockwise(lst, k))"
   ]
  },
  {
   "cell_type": "code",
   "execution_count": 10,
   "metadata": {},
   "outputs": [
    {
     "name": "stdout",
     "output_type": "stream",
     "text": [
      "[[1, 1], [1, 1]]\n",
      "[[1, 0, 1], [0, 1, 0], [1, 0, 1]]\n"
     ]
    }
   ],
   "source": [
    "def special_identity_matrix(n):\n",
    "  \"\"\"\n",
    "  Generate a special identity matrix of size n x n with ones on both diagonals.\n",
    "\n",
    "  Args:\n",
    "      n (int): Size of the special identity matrix.\n",
    "\n",
    "  Returns:\n",
    "      list: Special identity matrix.\n",
    "  \"\"\"\n",
    "  matrix = [[0 for j in range(n)] for i in range(n)]\n",
    "  for i in range(n):\n",
    "    j = i\n",
    "    matrix[i][j] = 1\n",
    "\n",
    "  for i in range(n):\n",
    "    j = n-1-i\n",
    "    matrix[i][j] = 1\n",
    "    \n",
    "  return matrix\n",
    "\n",
    "\n",
    "# Test Case 1\n",
    "n = 2\n",
    "# Expected: [[1, 1], [1, 1]]\n",
    "print(special_identity_matrix(n))\n",
    "\n",
    "# Test Case 2\n",
    "n = 3\n",
    "# Expected: [[1, 0, 1], [0, 1, 0], [1, 0, 1]]\n",
    "print(special_identity_matrix(n))"
   ]
  },
  {
   "cell_type": "code",
   "execution_count": 1,
   "metadata": {},
   "outputs": [
    {
     "name": "stdout",
     "output_type": "stream",
     "text": [
      "[[1, 0, 1], [0, 0, 0], [0, 0, 0]]\n"
     ]
    }
   ],
   "source": [
    "def special_identity_matrix(n):\n",
    " matrix = [[0 for j in range(n) ]for i in range(n)]\n",
    " for i in range(n):\n",
    "  j = i\n",
    "  matrix[i][j] = 1\n",
    "\n",
    "  for i in range(n):\n",
    "   j = n-1-i\n",
    "   matrix[i][j] = 1\n",
    "\n",
    "   return matrix\n",
    "  \n",
    "\n",
    "  \n",
    "  # Test Case 2\n",
    "n = 3\n",
    "# Expected: [[1, 0, 1], [0, 1, 0], [1, 0, 1]]\n",
    "print(special_identity_matrix(n))\n",
    "\n",
    "\n"
   ]
  },
  {
   "cell_type": "code",
   "execution_count": 8,
   "metadata": {},
   "outputs": [
    {
     "name": "stdout",
     "output_type": "stream",
     "text": [
      "[[170], [386], [602]]\n"
     ]
    }
   ],
   "source": [
    "def multiply_ab(A,B):  # helper function\n",
    "  num_rows = len(A)\n",
    "  num_cols = len(B[0])\n",
    "  n = len(A[0])\n",
    "\n",
    "  AB = [[\n",
    "    0 for j in range(num_cols)\n",
    "  ] for i in range(num_rows)]\n",
    "\n",
    "  for i in range(num_rows):\n",
    "    for j in range(num_cols):\n",
    "     sigma = 0\n",
    "     for k in range(n):\n",
    "       sigma += A[i][k] * B[k][j]\n",
    "     AB[i][j] = sigma\n",
    "  \n",
    "  return AB\n",
    "     \n",
    "\n",
    "def matrix_multiply(A, B, C):\n",
    "  \"\"\"\n",
    "  Multiply three matrices A, B, and C.\n",
    "  https://www.calculator.net/matrix-calculator.html\n",
    "\n",
    "  Args:\n",
    "      A (list of lists): First matrix of dimension m x n.\n",
    "      B (list of lists): Second matrix of dimension n x p.\n",
    "      C (list of lists): Third matrix of dimension p x z.\n",
    "\n",
    "  Returns:\n",
    "      list: Resultant product matrix `ABC` with dimensions m x z.\n",
    "  \"\"\"\n",
    "  AB = multiply_ab(A, B)\n",
    "  ABC = multiply_ab(AB, C)\n",
    "  return ABC\n",
    "\n",
    "# Test Case 1\n",
    "A = [[1, 2],    # 3x2\n",
    "     [3, 4],\n",
    "     [5, 6]]\n",
    "\n",
    "B = [[10, 11, 12, 13],   # 2x4\n",
    "     [14, 15, 16, 17]]\n",
    "\n",
    "C = [[1],    # 4x1\n",
    "     [1],\n",
    "     [1],\n",
    "     [1]]\n",
    "\n",
    "# Expected Output: [[170], [386], [602]]\n",
    "print(matrix_multiply(A, B, C))"
   ]
  },
  {
   "attachments": {
    "image.png": {
     "image/png": "[encoded data removed]"
    }
   },
   "cell_type": "markdown",
   "metadata": {},
   "source": [
    "![image.png](attachment:image.png)"
   ]
  },
  {
   "cell_type": "code",
   "execution_count": 15,
   "metadata": {},
   "outputs": [
    {
     "name": "stdout",
     "output_type": "stream",
     "text": [
      "[[170], [386], [602]]\n"
     ]
    }
   ],
   "source": [
    "def multiply_ab(A,B):  # helper function\n",
    "  num_rows = len(A)\n",
    "  num_cols = len(B[0])\n",
    "  n = len(A[0])\n",
    "\n",
    "  AB = [[\n",
    "    0 for j in range(num_cols)\n",
    "  ] for i in range(num_rows)]\n",
    "\n",
    "  for i in range(num_rows):\n",
    "    for j in range(num_cols):\n",
    "     sigma = 0\n",
    "     for k in range(n):\n",
    "       sigma += A[i][k] * B[k][j]\n",
    "     AB[i][j] = sigma\n",
    "  \n",
    "  return AB\n",
    "\n",
    " \n",
    "\n",
    "def matrix_multiply(A,B,C):\n",
    "    \n",
    "    AB = multiply_ab(A,B)\n",
    "    ABC = multiply_ab(AB,C)\n",
    "\n",
    "    return ABC\n",
    "    \n",
    "\n",
    "# Test Case 1\n",
    "A = [[1, 2],    # 3x2\n",
    "     [3, 4],\n",
    "     [5, 6]]\n",
    "\n",
    "B = [[10, 11, 12, 13],   # 2x4\n",
    "     [14, 15, 16, 17]]\n",
    "\n",
    "C = [[1],    # 4x1\n",
    "     [1],\n",
    "     [1],\n",
    "     [1]]\n",
    "\n",
    "# Expected Output: [[170], [386], [602]]\n",
    "print(matrix_multiply(A, B, C))\n",
    "        "
   ]
  },
  {
   "cell_type": "code",
   "execution_count": 2,
   "metadata": {},
   "outputs": [
    {
     "name": "stdout",
     "output_type": "stream",
     "text": [
      "0 0\n",
      "0 1\n",
      "1 0\n",
      "1 1\n"
     ]
    },
    {
     "data": {
      "text/plain": [
       "[['58', '64'], ['139', '154']]"
      ]
     },
     "execution_count": 2,
     "metadata": {},
     "output_type": "execute_result"
    }
   ],
   "source": [
    "matrix_a = [\n",
    "    [1, 2, 3],\n",
    "    [4, 5, 6],\n",
    "]\n",
    "\n",
    "matrix_b = [\n",
    "    [7, 8],\n",
    "    [9, 10],\n",
    "    [11, 12]\n",
    "]\n",
    "\n",
    "# (m * n) mult (n * p) = (m * p)\n",
    "num_rows = len(matrix_a)\n",
    "num_cols = len(matrix_b[0])\n",
    "n = len(matrix_b)\n",
    "\n",
    "ans_matrix = [[\n",
    "  0 for j in range(num_cols)\n",
    "]for i in range(num_rows)]\n",
    "\n",
    "for i in range(num_rows):\n",
    "  for j in range(num_cols):\n",
    "    print(i, j)\n",
    "    sigma = 0\n",
    "    for k in range(n):\n",
    "      sigma += matrix_a[i][k] * matrix_b[k][j]\n",
    "    ans_matrix[i][j] = str(sigma)\n",
    "\n",
    "ans_matrix"
   ]
  },
  {
   "cell_type": "code",
   "execution_count": 18,
   "metadata": {},
   "outputs": [
    {
     "name": "stdout",
     "output_type": "stream",
     "text": [
      "1\n",
      "1\n",
      "-1\n",
      "0\n",
      "-2\n",
      "-5\n",
      "5\n",
      "9\n"
     ]
    }
   ],
   "source": [
    "def evaluate_math_sentence(sentence):\n",
    "  \"\"\"\n",
    "  Evaluate a mathematical sentence containing only addition and subtraction.\n",
    "\n",
    "  Args:\n",
    "      sentence (str): The mathematical sentence to evaluate. \n",
    "                      It contains up to 10 words representing numbers (zero to nine) \n",
    "                      and the operations 'plus' and 'minus'.\n",
    "\n",
    "  Returns:\n",
    "      int: The result of the evaluated mathematical expression.\n",
    "  \"\"\"\n",
    "  word_to_number = {\n",
    "      'zero': 0,\n",
    "      'one': 1,\n",
    "      'two': 2,\n",
    "      'three': 3,\n",
    "      'four': 4,\n",
    "      'five': 5,\n",
    "      'six': 6,\n",
    "      'seven': 7,\n",
    "      'eight': 8,\n",
    "      'nine': 9,\n",
    "  }\n",
    "\n",
    "  sentence = sentence.split()\n",
    "  result = 0\n",
    "  sign = 1\n",
    "\n",
    "  for word in sentence:\n",
    "    if word == 'plus':\n",
    "      sign = 1\n",
    "\n",
    "    elif word == 'minus':\n",
    "      sign = sign * -1\n",
    "    else:\n",
    "      number = word_to_number[word]\n",
    "      result += (sign * number)\n",
    "      \n",
    "  return result\n",
    "\n",
    "\n",
    "print(evaluate_math_sentence('one'))  # Expected Output: 1\n",
    "print(evaluate_math_sentence('plus one'))  # Expected Output: 1\n",
    "print(evaluate_math_sentence('minus one'))  # Expected Output: -1\n",
    "print(evaluate_math_sentence('minus one plus one'))  # Expected Output: 0\n",
    "print(evaluate_math_sentence('minus one plus minus one'))  # Expected Output: -2\n",
    "print(evaluate_math_sentence('one plus two minus eight'))  # Expected Output: -5\n",
    "print(evaluate_math_sentence(\n",
    "    'one plus two minus eight plus nine plus three minus two'))  # Expected Output: 5\n",
    "print(evaluate_math_sentence(\n",
    "    'one plus two minus eight plus nine plus three minus minus two'))  # Expected Output: 9"
   ]
  },
  {
   "cell_type": "code",
   "execution_count": 16,
   "metadata": {},
   "outputs": [
    {
     "name": "stdout",
     "output_type": "stream",
     "text": [
      "True\n",
      "True\n",
      "False\n",
      "True\n",
      "False\n",
      "True\n",
      "False\n"
     ]
    }
   ],
   "source": [
    "def get_freq_dict(lst):\n",
    "  freq_dict = {}\n",
    "\n",
    "  for letter in lst:\n",
    "    if letter not in freq_dict:\n",
    "      freq_dict[letter] = 0\n",
    "    freq_dict[letter] += 1\n",
    "\n",
    "  return freq_dict\n",
    "\n",
    "def are_words_equivalent(word1, word2):\n",
    "  \"\"\"\n",
    "  Check if two words are equivalent, meaning they have the same letters in any order.\n",
    "\n",
    "  Args:\n",
    "      word1 (str): First word.\n",
    "      word2 (str): Second word.\n",
    "\n",
    "  Returns:\n",
    "      bool: True if the words are equivalent, False otherwise.\n",
    "  \"\"\"\n",
    "  list1 = list(word1)\n",
    "  list2 = list(word2)\n",
    "\n",
    "  freq_dict1 = get_freq_dict(word1)\n",
    "  freq_dict2 = get_freq_dict(word2)\n",
    "\n",
    "  return freq_dict1 == freq_dict2\n",
    "\n",
    "\n",
    "# Test Cases\n",
    "print(are_words_equivalent('vidhatri', 'trividha'))  # Expected Output: True\n",
    "print(are_words_equivalent('hello', 'llohe'))  # Expected Output: True\n",
    "print(are_words_equivalent('python', 'java'))  # Expected Output: False\n",
    "print(are_words_equivalent('listen', 'silent'))  # Expected Output: True\n",
    "print(are_words_equivalent('programming', 'gaming'))  # Expected Output: False\n",
    "print(are_words_equivalent('race', 'care'))  # Expected Output: True\n",
    "print(are_words_equivalent('moon', 'noon'))  # Expected Output: False"
   ]
  }
 ],
 "metadata": {
  "kernelspec": {
   "display_name": "Python 3",
   "language": "python",
   "name": "python3"
  },
  "language_info": {
   "codemirror_mode": {
    "name": "ipython",
    "version": 3
   },
   "file_extension": ".py",
   "mimetype": "text/x-python",
   "name": "python",
   "nbconvert_exporter": "python",
   "pygments_lexer": "ipython3",
   "version": "3.12.2"
  }
 },
 "nbformat": 4,
 "nbformat_minor": 2
}

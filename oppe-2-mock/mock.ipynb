{
 "cells": [
  {
   "cell_type": "code",
   "execution_count": 1,
   "metadata": {},
   "outputs": [
    {
     "data": {
      "text/plain": [
       "27"
      ]
     },
     "execution_count": 1,
     "metadata": {},
     "output_type": "execute_result"
    }
   ],
   "source": [
    "def difference_of_product_and_sum_of(a, b):\n",
    "    return a*b -a -b\n",
    "difference_of_product_and_sum_of(5, 8)"
   ]
  },
  {
   "cell_type": "code",
   "execution_count": 5,
   "metadata": {},
   "outputs": [
    {
     "data": {
      "text/plain": [
       "True"
      ]
     },
     "execution_count": 5,
     "metadata": {},
     "output_type": "execute_result"
    }
   ],
   "source": [
    "def is_3_digit_odd_number(a):\n",
    "    if len(str(a)) == 3 and a % 2 == 1:\n",
    "        return True\n",
    "    return False\n",
    "\n",
    "is_3_digit_odd_number(821)\n"
   ]
  },
  {
   "cell_type": "code",
   "execution_count": 12,
   "metadata": {},
   "outputs": [
    {
     "name": "stdout",
     "output_type": "stream",
     "text": [
      "'olleH'\n"
     ]
    }
   ],
   "source": [
    "\n",
    "def reverse_and_add_single_quotes(word):\n",
    "    word = word[::-1]\n",
    "    return \"'\" + word + \"'\"\n",
    "\n",
    "print(reverse_and_add_single_quotes('Hello'))"
   ]
  },
  {
   "cell_type": "code",
   "execution_count": 20,
   "metadata": {},
   "outputs": [
    {
     "name": "stdout",
     "output_type": "stream",
     "text": [
      "olleH\n"
     ]
    }
   ],
   "source": [
    "word = 'Hello'\n",
    "word = list(reversed(list(word)))\n",
    "word = ''.join(word)\n",
    "print(word)"
   ]
  },
  {
   "cell_type": "code",
   "execution_count": 21,
   "metadata": {},
   "outputs": [
    {
     "name": "stdout",
     "output_type": "stream",
     "text": [
      "olleH\n"
     ]
    }
   ],
   "source": [
    "word = 'Hello'\n",
    "word = word[::-1]\n",
    "print(word)"
   ]
  },
  {
   "cell_type": "code",
   "execution_count": 27,
   "metadata": {},
   "outputs": [
    {
     "name": "stdout",
     "output_type": "stream",
     "text": [
      "abcd found\n"
     ]
    }
   ],
   "source": [
    "word = 'abjdskcdhello'\n",
    "if 'a' in word and 'b' in word and 'c' in word and 'd' in word:\n",
    "    print('abcd found')"
   ]
  },
  {
   "cell_type": "code",
   "execution_count": 30,
   "metadata": {},
   "outputs": [
    {
     "data": {
      "text/plain": [
       "True"
      ]
     },
     "execution_count": 30,
     "metadata": {},
     "output_type": "execute_result"
    }
   ],
   "source": [
    "def has_first_four_lowercase_alphabets(word):\n",
    "    if 'a' in word and 'b' in word and 'c' in word and 'd' in word:\n",
    "        return True\n",
    "    return False\n",
    "\n",
    "has_first_four_lowercase_alphabets('abjdkdc')"
   ]
  },
  {
   "cell_type": "code",
   "execution_count": 38,
   "metadata": {},
   "outputs": [
    {
     "data": {
      "text/plain": [
       "'sample sentence'"
      ]
     },
     "execution_count": 38,
     "metadata": {},
     "output_type": "execute_result"
    }
   ],
   "source": [
    "sentence = 'This is the sample sentence'\n",
    "L = sentence.split()[-2:]\n",
    "' '.join(L)"
   ]
  },
  {
   "cell_type": "code",
   "execution_count": 40,
   "metadata": {},
   "outputs": [
    {
     "data": {
      "text/plain": [
       "'sample sentence'"
      ]
     },
     "execution_count": 40,
     "metadata": {},
     "output_type": "execute_result"
    }
   ],
   "source": [
    "def get_the_last_two_words(sentence):\n",
    "    L = sentence.split()[-2:]\n",
    "    ans = ' '.join(L)\n",
    "    return ans\n",
    "get_the_last_two_words(sentence)"
   ]
  },
  {
   "cell_type": "code",
   "execution_count": 47,
   "metadata": {},
   "outputs": [
    {
     "data": {
      "text/plain": [
       "[1, 0, 3, 0, 5]"
      ]
     },
     "execution_count": 47,
     "metadata": {},
     "output_type": "execute_result"
    }
   ],
   "source": [
    "lst = [1, 2, 3, 4, 5]\n",
    "n = len(lst)\n",
    "for i in range(n):\n",
    "    pos = i + 1\n",
    "    if pos % 2 == 0:\n",
    "        lst[i] = 0\n",
    "\n",
    "lst"
   ]
  },
  {
   "cell_type": "code",
   "execution_count": 45,
   "metadata": {},
   "outputs": [
    {
     "data": {
      "text/plain": [
       "[1, 2, 0, 4]"
      ]
     },
     "execution_count": 45,
     "metadata": {},
     "output_type": "execute_result"
    }
   ],
   "source": [
    "L = [1, 2, 3, 4]\n",
    "L[2] = 0\n",
    "\n",
    "L"
   ]
  },
  {
   "cell_type": "code",
   "execution_count": 52,
   "metadata": {},
   "outputs": [
    {
     "data": {
      "text/plain": [
       "[1, 0, 3, 0, 5]"
      ]
     },
     "execution_count": 52,
     "metadata": {},
     "output_type": "execute_result"
    }
   ],
   "source": [
    "def set_all_even_elements_to_zero(lst):\n",
    "    n = len(lst)\n",
    "\n",
    "    for i in range(n):\n",
    "        pos = i+ 1\n",
    "        if pos % 2 == 0:\n",
    "            lst[i] = 0\n",
    "lst =[1, 2, 3, 4, 5]\n",
    "set_all_even_elements_to_zero(lst)\n",
    "lst"
   ]
  },
  {
   "cell_type": "code",
   "execution_count": 54,
   "metadata": {},
   "outputs": [
    {
     "data": {
      "text/plain": [
       "False"
      ]
     },
     "execution_count": 54,
     "metadata": {},
     "output_type": "execute_result"
    }
   ],
   "source": [
    "L_1 = [1, 2, 3, 4, 5]\n",
    "L_2 = [1, 5, 3, 4, 5]\n",
    "L_1 == L_2\n",
    "\n"
   ]
  },
  {
   "cell_type": "code",
   "execution_count": 60,
   "metadata": {},
   "outputs": [
    {
     "data": {
      "text/plain": [
       "[1, 8, 5, 5]"
      ]
     },
     "execution_count": 60,
     "metadata": {},
     "output_type": "execute_result"
    },
    {
     "data": {
      "text/plain": [
       "[1, 5, 5, 8]"
      ]
     },
     "execution_count": 60,
     "metadata": {},
     "output_type": "execute_result"
    },
    {
     "data": {
      "text/plain": [
       "False"
      ]
     },
     "execution_count": 60,
     "metadata": {},
     "output_type": "execute_result"
    }
   ],
   "source": [
    "L = [1,8, 5, 5]\n",
    "newL = sorted(L)\n",
    "L\n",
    "newL\n",
    "L == newL"
   ]
  },
  {
   "cell_type": "code",
   "execution_count": 65,
   "metadata": {},
   "outputs": [
    {
     "data": {
      "text/plain": [
       "False"
      ]
     },
     "execution_count": 65,
     "metadata": {},
     "output_type": "execute_result"
    }
   ],
   "source": [
    "def is_sorted(L):\n",
    "    newL = sorted(L)\n",
    "    if newL == L:\n",
    "        return True\n",
    "    return False\n",
    "L = [1,2,4,3]\n",
    "is_sorted(L)"
   ]
  },
  {
   "cell_type": "code",
   "execution_count": 77,
   "metadata": {},
   "outputs": [
    {
     "data": {
      "text/plain": [
       "(15, 12)"
      ]
     },
     "execution_count": 77,
     "metadata": {},
     "output_type": "execute_result"
    }
   ],
   "source": [
    "n = 7839\n",
    "n = str(n)\n",
    "sum_1 = int(n[0]) + int(n[1])\n",
    "sum_2 = int(n[2]) + int(n[3])\n",
    "ans =(sum_1, sum_2)\n",
    "ans"
   ]
  },
  {
   "cell_type": "code",
   "execution_count": 82,
   "metadata": {},
   "outputs": [
    {
     "data": {
      "text/plain": [
       "(11, 10)"
      ]
     },
     "execution_count": 82,
     "metadata": {},
     "output_type": "execute_result"
    }
   ],
   "source": [
    "def sums_of_first_two_and_last_two_digits(n):\n",
    "    n = str(n)\n",
    "    sum_1 = int(n[0]) + int(n[1])\n",
    "    sum_2 = int(n[2]) + int(n[3])\n",
    "    ans = (sum_1 , sum_2)\n",
    "    return ans\n",
    "\n",
    "sums_of_first_two_and_last_two_digits(9282)"
   ]
  },
  {
   "cell_type": "code",
   "execution_count": 91,
   "metadata": {},
   "outputs": [
    {
     "data": {
      "text/plain": [
       "{3, 10}"
      ]
     },
     "execution_count": 91,
     "metadata": {},
     "output_type": "execute_result"
    },
    {
     "data": {
      "text/plain": [
       "{4, 6, 7}"
      ]
     },
     "execution_count": 91,
     "metadata": {},
     "output_type": "execute_result"
    },
    {
     "data": {
      "text/plain": [
       "True"
      ]
     },
     "execution_count": 91,
     "metadata": {},
     "output_type": "execute_result"
    }
   ],
   "source": [
    "L = [10, 3, 3, 4, 6, 7]\n",
    "\n",
    "n =len(L)\n",
    "L1 = L[:n//2]\n",
    "L2 = L[n//2:]\n",
    "L1 = set(L1)\n",
    "L2 = set(L2)\n",
    "L1\n",
    "L2\n",
    "len(L1) < len(L2)"
   ]
  },
  {
   "cell_type": "code",
   "execution_count": 95,
   "metadata": {},
   "outputs": [
    {
     "data": {
      "text/plain": [
       "True"
      ]
     },
     "execution_count": 95,
     "metadata": {},
     "output_type": "execute_result"
    }
   ],
   "source": [
    "def is_first_half_has_more_unique_values(L):\n",
    "    n = len(L)\n",
    "    L1 = L[:n//2]\n",
    "    L2 = L[n//2:]\n",
    "    L1 = set(L1)\n",
    "    L2 = set(L2)\n",
    "    if len(L1) > len(L2):\n",
    "        return True\n",
    "    return False\n",
    "\n",
    "L = [10, 3, 1, 6, 6, 7]\n",
    "\n",
    "is_first_half_has_more_unique_values(L)\n",
    "\n"
   ]
  },
  {
   "cell_type": "code",
   "execution_count": 103,
   "metadata": {},
   "outputs": [
    {
     "data": {
      "text/plain": [
       "{'rahul': 90, ('vidhatri', 93): 93}"
      ]
     },
     "execution_count": 103,
     "metadata": {},
     "output_type": "execute_result"
    }
   ],
   "source": [
    "marks = {\n",
    "    'rahul': 90,\n",
    "    'vidhatri': 93,\n",
    "}\n",
    "key = 'vidhatri'\n",
    "\n",
    "new_key = (key, marks[key])\n",
    "marks[new_key] = marks[key]\n",
    "del marks[key]\n",
    "marks"
   ]
  },
  {
   "cell_type": "code",
   "execution_count": 106,
   "metadata": {},
   "outputs": [
    {
     "data": {
      "text/plain": [
       "{'rahul': 90, ('vidhatri', 93): 93}"
      ]
     },
     "execution_count": 106,
     "metadata": {},
     "output_type": "execute_result"
    }
   ],
   "source": [
    "def replace_key_with_key_value_tuple(d, key):\n",
    "    new_key = (key, d[key])\n",
    "    d[new_key] = d[key]\n",
    "    del d[key]\n",
    "    return d\n",
    "\n",
    "marks = {\n",
    "    'rahul': 90,\n",
    "    'vidhatri': 93,\n",
    "}\n",
    "key = 'vidhatri'\n",
    "\n",
    "replace_key_with_key_value_tuple(marks, key)"
   ]
  },
  {
   "cell_type": "code",
   "execution_count": 109,
   "metadata": {},
   "outputs": [
    {
     "data": {
      "text/plain": [
       "True"
      ]
     },
     "execution_count": 109,
     "metadata": {},
     "output_type": "execute_result"
    }
   ],
   "source": [
    "def difference_of_product_and_sum_of(num_1, num_2):\n",
    "    return num_1 * num_2 -num_1 -num_2\n",
    "\n",
    "# difference_of_product_and_sum_of(5,7)\n",
    "\n",
    "def is_3_digit_odd_number(n):\n",
    "    \n",
    "    if n % 2 == 1 and len(str(n)) == 3:\n",
    "        return True\n",
    "    return False\n",
    "\n",
    "# is_3_digit_odd_number(845)"
   ]
  },
  {
   "cell_type": "code",
   "execution_count": 129,
   "metadata": {},
   "outputs": [],
   "source": [
    "def reverse_and_add_single_quotes(word):\n",
    "\n",
    "    word = word[::-1]\n",
    "    return \"'\" + word +\"'\"\n",
    "\n",
    "# reverse_and_add_single_quotes(\"vidhatri\")\n",
    "\n",
    "def has_first_four_lowercase_alphabets(letters):\n",
    "    letters = letters.lower()\n",
    "\n",
    "    if 'a' in letters and 'b' in letters and 'c' in letters and 'd' in letters:\n",
    "        return True\n",
    "    return False\n",
    "# letters = 'alabad'\n",
    "# has_first_four_lowercase_alphabets(letters)\n"
   ]
  },
  {
   "cell_type": "code",
   "execution_count": 130,
   "metadata": {},
   "outputs": [
    {
     "data": {
      "text/plain": [
       "'brown fox'"
      ]
     },
     "execution_count": 130,
     "metadata": {},
     "output_type": "execute_result"
    }
   ],
   "source": [
    "def get_the_last_two_words(sentence):\n",
    "    L = sentence.split()[-2:]\n",
    "    ans = ' '.join(L)\n",
    "    return ans\n",
    "# L = 'The quick brown fox'\n",
    "# get_the_last_two_words(L)"
   ]
  },
  {
   "cell_type": "code",
   "execution_count": 131,
   "metadata": {},
   "outputs": [
    {
     "data": {
      "text/plain": [
       "'brown fox'"
      ]
     },
     "execution_count": 131,
     "metadata": {},
     "output_type": "execute_result"
    }
   ],
   "source": [
    "def get_the_last_two_words(sentencce):\n",
    "    sent = sentencce.split()[-2:]\n",
    "    return ' '.join(sent)\n",
    "\n",
    "# get_the_last_two_words(L) \n",
    "    "
   ]
  },
  {
   "cell_type": "code",
   "execution_count": 18,
   "metadata": {},
   "outputs": [
    {
     "data": {
      "text/plain": [
       "(11, 11)"
      ]
     },
     "execution_count": 18,
     "metadata": {},
     "output_type": "execute_result"
    }
   ],
   "source": [
    "def set_all_even_elements_to_zero(list):\n",
    "    n = len(list)\n",
    "    for i in range(n):\n",
    "        position = i + 1\n",
    "        if position % 2 == 0:\n",
    "            list[i] = 0\n",
    "           \n",
    "# list = [1, 2, 3, 4]\n",
    "# set_all_even_elements_to_zero(list)\n",
    "# list  # in this ques list is not retuned so need to print list\n",
    "\n",
    "def is_sorted(lst):\n",
    "    sorted_lst = sorted(lst)\n",
    "    if sorted_lst == lst:\n",
    "        return True\n",
    "    return False\n",
    "\n",
    "# lst = [1,6,5,9,2,9,1]\n",
    "# is_sorted(lst)\n",
    "\n",
    "def sums_of_first_two_and_last_two_digits(number):\n",
    "    num = str(number)\n",
    "    if len(num) == 4:\n",
    "        return (int(num[0]) + int(num[1]) , int(num[2]) + int(num[3]))\n",
    "    \n",
    "# sums_of_first_two_and_last_two_digits(2938)"
   ]
  },
  {
   "cell_type": "code",
   "execution_count": 39,
   "metadata": {},
   "outputs": [
    {
     "data": {
      "text/plain": [
       "True"
      ]
     },
     "execution_count": 39,
     "metadata": {},
     "output_type": "execute_result"
    },
    {
     "data": {
      "text/plain": [
       "{'vidhatri': 90, ('rahul', 98): 98}"
      ]
     },
     "execution_count": 39,
     "metadata": {},
     "output_type": "execute_result"
    }
   ],
   "source": [
    "def is_first_half_has_more_unique_values(lst):\n",
    "    \n",
    "    n = len(lst)\n",
    "\n",
    "    first = lst[:n//2]\n",
    "    second = lst[n//2:]\n",
    "    L1 = set(first)\n",
    "    L2 = set(second)\n",
    "    if len(L1) > len(L2):\n",
    "        return True\n",
    "    return False\n",
    "\n",
    "# lst = [1,6,4,7,7,9]\n",
    "\n",
    "# is_first_half_has_more_unique_values(lst)\n",
    "\n",
    "def replace_key_with_key_value_tuple(dict, key):\n",
    "    new_key = (key, dict[key])\n",
    "    dict[new_key] = dict[key]\n",
    "    del dict[key]\n",
    "    return dict\n",
    "\n",
    "# dict = {\n",
    "#     'vidhatri': 90,\n",
    "#     'rahul': 98,\n",
    "# }\n",
    "# key = 'rahul'\n",
    "\n",
    "# replace_key_with_key_value_tuple(dict, key)"
   ]
  },
  {
   "cell_type": "code",
   "execution_count": 4,
   "metadata": {},
   "outputs": [
    {
     "data": {
      "text/plain": [
       "['a', 'e', 'l', 'p', 'p']"
      ]
     },
     "execution_count": 4,
     "metadata": {},
     "output_type": "execute_result"
    },
    {
     "data": {
      "text/plain": [
       "'aelpp'"
      ]
     },
     "execution_count": 4,
     "metadata": {},
     "output_type": "execute_result"
    }
   ],
   "source": [
    "word ='apple'\n",
    "\n",
    "word =list(word)\n",
    "word = sorted(word)\n",
    "word\n",
    "''.join(word)"
   ]
  },
  {
   "cell_type": "code",
   "execution_count": 6,
   "metadata": {},
   "outputs": [
    {
     "data": {
      "text/plain": [
       "'pplea'"
      ]
     },
     "execution_count": 6,
     "metadata": {},
     "output_type": "execute_result"
    }
   ],
   "source": [
    "word = 'apple'\n",
    "''.join(sorted(list(word), reverse=True))"
   ]
  },
  {
   "cell_type": "code",
   "execution_count": 8,
   "metadata": {},
   "outputs": [
    {
     "data": {
      "text/plain": [
       "[1, 2, 3, 4, 5]"
      ]
     },
     "execution_count": 8,
     "metadata": {},
     "output_type": "execute_result"
    }
   ],
   "source": [
    "L =[1,2,3,5]\n",
    "L = L[:]\n",
    "L.append(4)\n",
    "L.sort()\n",
    "L"
   ]
  },
  {
   "cell_type": "code",
   "execution_count": 8,
   "metadata": {},
   "outputs": [
    {
     "name": "stdout",
     "output_type": "stream",
     "text": [
      "171700\n"
     ]
    }
   ],
   "source": [
    "n = 100\n",
    "sum = 0\n",
    "for i in range(1,n+1):\n",
    "    for j in range(1, i+1):\n",
    "        sum += j\n",
    "print(sum)"
   ]
  },
  {
   "cell_type": "code",
   "execution_count": 19,
   "metadata": {},
   "outputs": [
    {
     "name": "stdout",
     "output_type": "stream",
     "text": [
      "2\n"
     ]
    }
   ],
   "source": [
    "n = 8\n",
    "\n",
    "for i in range(2, n):\n",
    "    if n % i == 0:\n",
    "\n",
    "        is_prime = True\n",
    "        for j in range(2, i):\n",
    "            if i % j == 0:\n",
    "                is_prime = False\n",
    "                break\n",
    "        if is_prime:\n",
    "            print(i)\n",
    "    "
   ]
  },
  {
   "cell_type": "code",
   "execution_count": 1,
   "metadata": {},
   "outputs": [],
   "source": [
    "matrix_a = [\n",
    "    [1, 2, 3],\n",
    "    [4, 5, 6],\n",
    "]\n",
    "\n",
    "matrix_b = [\n",
    "    [7, 8],\n",
    "    [9, 10],\n",
    "    [11, 12]\n",
    "]"
   ]
  },
  {
   "cell_type": "code",
   "execution_count": 3,
   "metadata": {},
   "outputs": [
    {
     "data": {
      "text/plain": [
       "[[10, 20, 30], [40, 50, 60]]"
      ]
     },
     "execution_count": 3,
     "metadata": {},
     "output_type": "execute_result"
    }
   ],
   "source": [
    "#scalar multi\n",
    "\n",
    "num_row = len(matrix_a)\n",
    "num_col = len(matrix_a[0])\n",
    "\n",
    "# skeletal matrix\n",
    "k = 10\n",
    "\n",
    "ans_matrix = [[\n",
    "    '0' for j in range(num_col)\n",
    "    ] for i in range(num_row)]\n",
    "\n",
    "for i in range(num_row):\n",
    "    for j in range(num_col):\n",
    "        ans_matrix[i][j] = matrix_a[i][j] * k\n",
    "ans_matrix"
   ]
  },
  {
   "cell_type": "code",
   "execution_count": 4,
   "metadata": {},
   "outputs": [
    {
     "data": {
      "text/plain": [
       "[[560, 640], [720, 800], [880, 960]]"
      ]
     },
     "execution_count": 4,
     "metadata": {},
     "output_type": "execute_result"
    }
   ],
   "source": [
    "num_row = len(matrix_b)\n",
    "num_col = len(matrix_b[0])\n",
    "\n",
    "k = 80\n",
    "\n",
    "# a skeletal matrix\n",
    "\n",
    "ans_matrix = [[\n",
    "    0 for j in range(num_col)\n",
    "    ] for i  in range(num_row)]\n",
    "\n",
    "for i in range(num_row):\n",
    "    for j in range(num_col):\n",
    "        ans_matrix[i][j] = matrix_b[i][j] * k\n",
    "\n",
    "ans_matrix"
   ]
  },
  {
   "cell_type": "code",
   "execution_count": 3,
   "metadata": {},
   "outputs": [
    {
     "data": {
      "text/plain": [
       "[[12, 10], [18, 20], [12, 23]]"
      ]
     },
     "execution_count": 3,
     "metadata": {},
     "output_type": "execute_result"
    }
   ],
   "source": [
    "# matrix addition\n",
    "\n",
    "matrix_a = [\n",
    "    [5, 2],\n",
    "    [9, 10],\n",
    "    [1, 11]\n",
    "]\n",
    "\n",
    "matrix_b = [\n",
    "    [7, 8],\n",
    "    [9, 10],\n",
    "    [11, 12]\n",
    "]\n",
    "num_row = len(matrix_a)\n",
    "num_col = len(matrix_a[0])\n",
    "\n",
    "ans_matrix = [[\n",
    "    0 for j in range(num_col)\n",
    "] for i in range(num_row)]\n",
    "\n",
    "for i in range(num_row):\n",
    "    for j in range(num_col):\n",
    "        ans_matrix[i][j] = matrix_a[i][j] + matrix_b[i][j]\n",
    "\n",
    "ans_matrix"
   ]
  },
  {
   "cell_type": "code",
   "execution_count": 12,
   "metadata": {},
   "outputs": [
    {
     "ename": "IndexError",
     "evalue": "list index out of range",
     "output_type": "error",
     "traceback": [
      "\u001b[1;31m---------------------------------------------------------------------------\u001b[0m",
      "\u001b[1;31mIndexError\u001b[0m                                Traceback (most recent call last)",
      "Cell \u001b[1;32mIn[12], line 30\u001b[0m\n\u001b[0;32m     28\u001b[0m sigma \u001b[38;5;241m=\u001b[39m \u001b[38;5;241m0\u001b[39m\n\u001b[0;32m     29\u001b[0m \u001b[38;5;28;01mfor\u001b[39;00m k \u001b[38;5;129;01min\u001b[39;00m \u001b[38;5;28mrange\u001b[39m(n):\n\u001b[1;32m---> 30\u001b[0m   sigma \u001b[38;5;241m+\u001b[39m\u001b[38;5;241m=\u001b[39m \u001b[43mmatrix_a\u001b[49m\u001b[43m[\u001b[49m\u001b[43mi\u001b[49m\u001b[43m]\u001b[49m\u001b[43m[\u001b[49m\u001b[43mk\u001b[49m\u001b[43m]\u001b[49m \u001b[38;5;241m*\u001b[39m matrix_b[k][j]\n\u001b[0;32m     31\u001b[0m ans_matrix[i][j] \u001b[38;5;241m=\u001b[39m sigma\n",
      "\u001b[1;31mIndexError\u001b[0m: list index out of range"
     ]
    }
   ],
   "source": [
    "matrix_a = [\n",
    "    [5, 2],\n",
    "    [9, 10],\n",
    "    [1, 11]\n",
    "]\n",
    "\n",
    "matrix_b = [\n",
    "    [7, 8],\n",
    "    [9, 10],\n",
    "    [11, 12]\n",
    "]\n",
    "\n",
    "\n",
    "\n",
    "num_row = len(matrix_a)\n",
    "num_col = len(matrix_b[0])\n",
    "\n",
    "n = len(matrix_b)\n",
    "\n",
    "ans_matrix = [[\n",
    "    0 for j in range(num_col)\n",
    "] for i in range(num_row)]\n",
    "\n",
    "\n",
    "for i in range(num_row):\n",
    "  for j in range(num_col):\n",
    "    # print(ans_matrix)\n",
    "    sigma = 0\n",
    "    for k in range(n):\n",
    "      sigma += matrix_a[i][k] * matrix_b[k][j]\n",
    "    ans_matrix[i][j] = sigma\n",
    "    \n",
    "\n"
   ]
  },
  {
   "cell_type": "code",
   "execution_count": 13,
   "metadata": {},
   "outputs": [
    {
     "data": {
      "text/plain": [
       "[[5, 2], [9, 10], [1, 11]]"
      ]
     },
     "execution_count": 13,
     "metadata": {},
     "output_type": "execute_result"
    },
    {
     "data": {
      "text/plain": [
       "[5, 9, 1]"
      ]
     },
     "execution_count": 13,
     "metadata": {},
     "output_type": "execute_result"
    },
    {
     "ename": "TypeError",
     "evalue": "unsupported operand type(s) for +=: 'int' and 'list'",
     "output_type": "error",
     "traceback": [
      "\u001b[1;31m---------------------------------------------------------------------------\u001b[0m",
      "\u001b[1;31mTypeError\u001b[0m                                 Traceback (most recent call last)",
      "Cell \u001b[1;32mIn[13], line 29\u001b[0m\n\u001b[0;32m     27\u001b[0m get_row(matrix_a, \u001b[38;5;241m0\u001b[39m)\n\u001b[0;32m     28\u001b[0m get_col(matrix_a, \u001b[38;5;241m0\u001b[39m)\n\u001b[1;32m---> 29\u001b[0m \u001b[43mdot_product\u001b[49m\u001b[43m(\u001b[49m\u001b[43mget_row\u001b[49m\u001b[43m(\u001b[49m\u001b[43mmatrix_a\u001b[49m\u001b[43m,\u001b[49m\u001b[43m \u001b[49m\u001b[38;5;241;43m0\u001b[39;49m\u001b[43m)\u001b[49m\u001b[43m,\u001b[49m\u001b[43m \u001b[49m\u001b[43mget_col\u001b[49m\u001b[43m(\u001b[49m\u001b[43mmatrix_b\u001b[49m\u001b[43m,\u001b[49m\u001b[43m \u001b[49m\u001b[38;5;241;43m0\u001b[39;49m\u001b[43m)\u001b[49m\u001b[43m)\u001b[49m  \u001b[38;5;66;03m# 58\u001b[39;00m\n\u001b[0;32m     30\u001b[0m dot_product(get_row(matrix_a, \u001b[38;5;241m0\u001b[39m), get_col(matrix_b, \u001b[38;5;241m1\u001b[39m))  \u001b[38;5;66;03m# 164\u001b[39;00m\n\u001b[0;32m     31\u001b[0m dot_product(get_row(matrix_a, \u001b[38;5;241m1\u001b[39m), get_col(matrix_b, \u001b[38;5;241m0\u001b[39m))  \u001b[38;5;66;03m# 139\u001b[39;00m\n",
      "Cell \u001b[1;32mIn[13], line 25\u001b[0m, in \u001b[0;36mdot_product\u001b[1;34m(row, col)\u001b[0m\n\u001b[0;32m     22\u001b[0m     el1 \u001b[38;5;241m=\u001b[39m row[i]\n\u001b[0;32m     23\u001b[0m     el2 \u001b[38;5;241m=\u001b[39m col[i]\n\u001b[1;32m---> 25\u001b[0m \u001b[43msigma\u001b[49m\u001b[43m \u001b[49m\u001b[38;5;241;43m+\u001b[39;49m\u001b[38;5;241;43m=\u001b[39;49m\u001b[43m \u001b[49m\u001b[43mel1\u001b[49m\u001b[43m \u001b[49m\u001b[38;5;241;43m*\u001b[39;49m\u001b[43m \u001b[49m\u001b[43mel2\u001b[49m\n\u001b[0;32m     26\u001b[0m \u001b[38;5;28;01mreturn\u001b[39;00m sigma\n",
      "\u001b[1;31mTypeError\u001b[0m: unsupported operand type(s) for +=: 'int' and 'list'"
     ]
    }
   ],
   "source": [
    "matrix_a = [\n",
    "    [5, 2],\n",
    "    [9, 10],\n",
    "    [1, 11]\n",
    "]\n",
    "\n",
    "matrix_b = [\n",
    "    [7, 8],\n",
    "    [9, 10],\n",
    "    [11, 12]\n",
    "]\n",
    "\n",
    "def get_row(matrix, i):\n",
    "    return matrix\n",
    "\n",
    "def get_col(matrix, j):\n",
    "    return [row[j] for row in matrix]\n",
    "\n",
    "def dot_product(row, col):\n",
    "    sigma = 0\n",
    "    for i in range(len(row)):\n",
    "        el1 = row[i]\n",
    "        el2 = col[i]\n",
    "\n",
    "    sigma += el1 * el2\n",
    "    return sigma\n",
    "get_row(matrix_a, 0)\n",
    "get_col(matrix_a, 0)\n",
    "dot_product(get_row(matrix_a, 0), get_col(matrix_b, 0))  # 58\n",
    "dot_product(get_row(matrix_a, 0), get_col(matrix_b, 1))  # 164\n",
    "dot_product(get_row(matrix_a, 1), get_col(matrix_b, 0))  # 139\n",
    "dot_product(get_row(matrix_a, 1), get_col(matrix_b, 1))  "
   ]
  },
  {
   "cell_type": "code",
   "execution_count": 7,
   "metadata": {},
   "outputs": [
    {
     "ename": "SyntaxError",
     "evalue": "invalid syntax. Perhaps you forgot a comma? (248516492.py, line 4)",
     "output_type": "error",
     "traceback": [
      "\u001b[1;36m  Cell \u001b[1;32mIn[7], line 4\u001b[1;36m\u001b[0m\n\u001b[1;33m    print(' '*j,'*'*i end=)\u001b[0m\n\u001b[1;37m                ^\u001b[0m\n\u001b[1;31mSyntaxError\u001b[0m\u001b[1;31m:\u001b[0m invalid syntax. Perhaps you forgot a comma?\n"
     ]
    }
   ],
   "source": [
    "n = 7\n",
    "for i in range(1, n+1):\n",
    "      j = i-1\n",
    "      \n"
   ]
  },
  {
   "cell_type": "code",
   "execution_count": 2,
   "metadata": {},
   "outputs": [
    {
     "name": "stdout",
     "output_type": "stream",
     "text": [
      " *\n",
      " * *\n",
      " * * *\n",
      " * * * *\n",
      " * * * * *\n",
      " * * * * * *\n",
      " * * * * * * *\n"
     ]
    }
   ],
   "source": [
    "n = 7\n",
    "for i in range(1, n+1):\n",
    "    print(' ''*'*i)\n",
    "    \n",
    "        \n",
    "        \n",
    "\n"
   ]
  },
  {
   "cell_type": "code",
   "execution_count": 1,
   "metadata": {},
   "outputs": [
    {
     "name": "stdout",
     "output_type": "stream",
     "text": [
      "******\n"
     ]
    }
   ],
   "source": [
    "n = 7\n",
    "for i in range(1, n+1):\n",
    "    j = '*' * (n-i)\n",
    "    print(j)\n",
    "    pattern = list(reversed(j))\n",
    "    pattern = list(map(str,input()))\n",
    "  \n",
    "\n",
    "    print(pattern)"
   ]
  },
  {
   "cell_type": "code",
   "execution_count": 11,
   "metadata": {},
   "outputs": [
    {
     "name": "stdout",
     "output_type": "stream",
     "text": [
      "  *******\n",
      "   ******\n",
      "    *****\n",
      "     ****\n",
      "      ***\n",
      "       **\n",
      "        *\n"
     ]
    }
   ],
   "source": [
    "n = 7\n",
    "for i in range(1, n+1):\n",
    "    print(' '* (i+1) + '*'* (n-i+1))"
   ]
  },
  {
   "cell_type": "code",
   "execution_count": 18,
   "metadata": {},
   "outputs": [
    {
     "name": "stdout",
     "output_type": "stream",
     "text": [
      "[8, 2, 3, 1]\n",
      "[3, 8, 5, 1]\n",
      "[7, 1, 4, 9]\n",
      "[2, 3, 7, 1]\n"
     ]
    }
   ],
   "source": [
    "matrix = [\n",
    "    [8, 5, 2, 3, 1],\n",
    "    [4, 6, 9, 2, 7],\n",
    "    [3, 9, 8, 5, 1],\n",
    "    [7, 1, 1, 4, 9],\n",
    "    [2, 6, 3, 7, 1],\n",
    "]\n",
    "\n",
    "# Programmatically get the submatrix without the row=2 and column=2\n",
    "# matrix = [\n",
    "#     [8, 2, 3, 1],\n",
    "#     [3, 8, 5, 1],\n",
    "#     [7, 1, 4, 9],\n",
    "#     [2, 3, 7, 1],\n",
    "# ]\n",
    "\n",
    "i, j = 1, 1\n",
    "\n",
    "# print(matrix[:i])\n",
    "# this is to obtain 1st row\n",
    "\n",
    "# print(matrix[i+1:])\n",
    "# this is to obtain 3rd 4th 5th \n",
    "\n",
    "\n",
    "# for row in matrix[:i] + matrix[i+1:]:       #concatination\n",
    "#     print(row)\n",
    "\n",
    "    # now v need 2nd col removed \n",
    "\n",
    "for row in matrix[:i] + matrix[i+1:]:   # to obtain required matrix\n",
    "    print(row[:j] + row[j+1:])              #  printing col wise\n"
   ]
  },
  {
   "cell_type": "markdown",
   "metadata": {},
   "source": [
    "revision oppe 2"
   ]
  },
  {
   "cell_type": "code",
   "execution_count": 3,
   "metadata": {},
   "outputs": [
    {
     "data": {
      "text/plain": [
       "['a', 'p', 'p', 'l', 'e']"
      ]
     },
     "execution_count": 3,
     "metadata": {},
     "output_type": "execute_result"
    },
    {
     "data": {
      "text/plain": [
       "<list_reverseiterator at 0x1f8009955a0>"
      ]
     },
     "execution_count": 3,
     "metadata": {},
     "output_type": "execute_result"
    },
    {
     "data": {
      "text/plain": [
       "'elppa'"
      ]
     },
     "execution_count": 3,
     "metadata": {},
     "output_type": "execute_result"
    }
   ],
   "source": [
    "word = 'apple'   # string\n",
    "\n",
    "\n",
    "list(word)\n",
    "reversed(list(word))\n",
    "''.join(reversed(list(word)))\n"
   ]
  },
  {
   "cell_type": "markdown",
   "metadata": {},
   "source": [
    "sort the list\n"
   ]
  },
  {
   "cell_type": "code",
   "execution_count": 4,
   "metadata": {},
   "outputs": [
    {
     "data": {
      "text/plain": [
       "['a', 'p', 'p', 'l', 'e']"
      ]
     },
     "execution_count": 4,
     "metadata": {},
     "output_type": "execute_result"
    },
    {
     "data": {
      "text/plain": [
       "['p', 'p', 'l', 'e', 'a']"
      ]
     },
     "execution_count": 4,
     "metadata": {},
     "output_type": "execute_result"
    },
    {
     "data": {
      "text/plain": [
       "'pplea'"
      ]
     },
     "execution_count": 4,
     "metadata": {},
     "output_type": "execute_result"
    }
   ],
   "source": [
    "list(word)\n",
    "sorted(list(word), reverse=True)\n",
    "''.join(sorted(list(word),reverse=True))\n"
   ]
  },
  {
   "cell_type": "code",
   "execution_count": 5,
   "metadata": {},
   "outputs": [
    {
     "data": {
      "text/plain": [
       "'apple'"
      ]
     },
     "execution_count": 5,
     "metadata": {},
     "output_type": "execute_result"
    },
    {
     "data": {
      "text/plain": [
       "'APPLE'"
      ]
     },
     "execution_count": 5,
     "metadata": {},
     "output_type": "execute_result"
    }
   ],
   "source": [
    "word.lower()\n",
    "word.upper()"
   ]
  },
  {
   "cell_type": "code",
   "execution_count": 6,
   "metadata": {},
   "outputs": [
    {
     "data": {
      "text/plain": [
       "65"
      ]
     },
     "execution_count": 6,
     "metadata": {},
     "output_type": "execute_result"
    },
    {
     "data": {
      "text/plain": [
       "66"
      ]
     },
     "execution_count": 6,
     "metadata": {},
     "output_type": "execute_result"
    }
   ],
   "source": [
    "ord('A')\n",
    "ord('B')"
   ]
  },
  {
   "cell_type": "code",
   "execution_count": 9,
   "metadata": {},
   "outputs": [
    {
     "name": "stdout",
     "output_type": "stream",
     "text": [
      "letter1='d' letter2='c' dist=1\n",
      "letter1='o' letter2='a' dist=14\n",
      "letter1='g' letter2='t' dist=13\n",
      "dist_sum=28\n"
     ]
    }
   ],
   "source": [
    "word1 = 'dog'\n",
    "word2 = 'cat'\n",
    "n= len(word1)\n",
    "dist_sum = 0\n",
    "\n",
    "for i in range(n):\n",
    "    letter1 = word1[i]\n",
    "    letter2 = word2[i]\n",
    "    dist = abs((ord(letter1) - ord(letter2)))\n",
    "    dist_sum += dist\n",
    "    print(f'{letter1=} {letter2=} {dist=}')\n",
    "print(f'{dist_sum=}')\n"
   ]
  },
  {
   "cell_type": "code",
   "execution_count": 10,
   "metadata": {},
   "outputs": [
    {
     "data": {
      "text/plain": [
       "8"
      ]
     },
     "execution_count": 10,
     "metadata": {},
     "output_type": "execute_result"
    }
   ],
   "source": [
    "letter = 'H'\n",
    "ord(letter) - 64"
   ]
  },
  {
   "cell_type": "code",
   "execution_count": 11,
   "metadata": {},
   "outputs": [],
   "source": [
    "ipos = 'C4'\n",
    "fpos = 'F8'\n",
    "\n",
    "ipos_y = int(ipos[1])\n",
    "fpos_y = int(fpos[1])\n",
    "\n",
    "ipos_x = ord(ipos[0]) - 64\n",
    "fpos_x = ord(fpos[0]) - 64\n",
    "\n",
    "x_dist = abs(ipos_x - fpos_x)\n",
    "y_dist = abs(ipos_y - fpos_y)\n",
    "\n",
    "print(f'{ipos_x=}, {fpos_x=}')\n",
    "print(f'{ipos_y=}, {fpos_y=}')\n",
    "print(f'{x_dist=} {y_dist=})')\n",
    "if x_dist == y_dist:\n",
    "    print('move is possible')\n",
    "print('move is impossible')\n",
    "\n"
   ]
  },
  {
   "cell_type": "code",
   "execution_count": 14,
   "metadata": {},
   "outputs": [
    {
     "data": {
      "text/plain": [
       "[2, 3, 4, 5, 6, 8, 9, 10]"
      ]
     },
     "execution_count": 14,
     "metadata": {},
     "output_type": "execute_result"
    },
    {
     "data": {
      "text/plain": [
       "[10, 9, 8, 6, 5, 4, 3, 2]"
      ]
     },
     "execution_count": 14,
     "metadata": {},
     "output_type": "execute_result"
    }
   ],
   "source": [
    "L =[8,9,10,2,3,4,5,6]\n",
    "\n",
    "L.sort()\n",
    "L\n",
    "\n",
    "L.sort(reverse=True)\n",
    "L"
   ]
  },
  {
   "cell_type": "code",
   "execution_count": 15,
   "metadata": {},
   "outputs": [
    {
     "name": "stdout",
     "output_type": "stream",
     "text": [
      "L=[10, 9, 8, 6, 5, 4, 3, 2]\n",
      "[2, 3, 4, 5, 6, 8, 9, 10]\n"
     ]
    }
   ],
   "source": [
    "new_L = L[:]\n",
    "\n",
    "new_L.sort()\n",
    "\n",
    "print(f'{L=}')\n",
    "print(f'{new_L}')\n"
   ]
  },
  {
   "cell_type": "code",
   "execution_count": 17,
   "metadata": {},
   "outputs": [
    {
     "data": {
      "text/plain": [
       "<list_reverseiterator at 0x1f802702a40>"
      ]
     },
     "execution_count": 17,
     "metadata": {},
     "output_type": "execute_result"
    },
    {
     "data": {
      "text/plain": [
       "[2, 3, 4, 5, 6, 8, 9, 10]"
      ]
     },
     "execution_count": 17,
     "metadata": {},
     "output_type": "execute_result"
    }
   ],
   "source": [
    "reversed(L)\n",
    "list(reversed(L))"
   ]
  },
  {
   "cell_type": "code",
   "execution_count": 19,
   "metadata": {},
   "outputs": [
    {
     "data": {
      "text/plain": [
       "'todayissunday'"
      ]
     },
     "execution_count": 19,
     "metadata": {},
     "output_type": "execute_result"
    },
    {
     "data": {
      "text/plain": [
       "'todayissunday'"
      ]
     },
     "execution_count": 19,
     "metadata": {},
     "output_type": "execute_result"
    },
    {
     "data": {
      "text/plain": [
       "'todayissunday'"
      ]
     },
     "execution_count": 19,
     "metadata": {},
     "output_type": "execute_result"
    },
    {
     "data": {
      "text/plain": [
       "'today?@#$is?@#$sunday'"
      ]
     },
     "execution_count": 19,
     "metadata": {},
     "output_type": "execute_result"
    }
   ],
   "source": [
    "L = ['today', 'is','sunday']\n",
    "''.join(L)\n",
    "''.join(L)\n",
    "''.join(L)\n",
    "'?@#$'.join(L)"
   ]
  },
  {
   "cell_type": "markdown",
   "metadata": {},
   "source": [
    "Flatten matrix along axis:"
   ]
  },
  {
   "cell_type": "code",
   "execution_count": 11,
   "metadata": {},
   "outputs": [],
   "source": [
    "m1 = [[1,2,3],[2,3,4],[5,6,7]]\n",
    "axis_1 = 1\n",
    "\n",
    "m2 = [[7,8,9],[3,4,5],[1,2,3]]\n",
    "axis_2 = 0\n"
   ]
  },
  {
   "cell_type": "code",
   "execution_count": 26,
   "metadata": {},
   "outputs": [
    {
     "ename": "TypeError",
     "evalue": "'int' object is not iterable",
     "output_type": "error",
     "traceback": [
      "\u001b[1;31m---------------------------------------------------------------------------\u001b[0m",
      "\u001b[1;31mTypeError\u001b[0m                                 Traceback (most recent call last)",
      "Cell \u001b[1;32mIn[26], line 7\u001b[0m\n\u001b[0;32m      5\u001b[0m     \u001b[38;5;28;01mif\u001b[39;00m axis \u001b[38;5;241m==\u001b[39m \u001b[38;5;241m1\u001b[39m:\n\u001b[0;32m      6\u001b[0m         \u001b[38;5;28;01mreturn\u001b[39;00m [row[j] \u001b[38;5;28;01mfor\u001b[39;00m j \u001b[38;5;129;01min\u001b[39;00m row]\n\u001b[1;32m----> 7\u001b[0m \u001b[43mflatten_matrix\u001b[49m\u001b[43m(\u001b[49m\u001b[43mm1\u001b[49m\u001b[43m,\u001b[49m\u001b[43maxis_1\u001b[49m\u001b[43m)\u001b[49m\n\u001b[0;32m      8\u001b[0m flatten_matrix(m2,axis_2)\n",
      "Cell \u001b[1;32mIn[26], line 6\u001b[0m, in \u001b[0;36mflatten_matrix\u001b[1;34m(matrix, axis)\u001b[0m\n\u001b[0;32m      4\u001b[0m     \u001b[38;5;28;01mreturn\u001b[39;00m [row \u001b[38;5;28;01mfor\u001b[39;00m i \u001b[38;5;129;01min\u001b[39;00m row]\n\u001b[0;32m      5\u001b[0m \u001b[38;5;28;01mif\u001b[39;00m axis \u001b[38;5;241m==\u001b[39m \u001b[38;5;241m1\u001b[39m:\n\u001b[1;32m----> 6\u001b[0m     \u001b[38;5;28;01mreturn\u001b[39;00m \u001b[43m[\u001b[49m\u001b[43mrow\u001b[49m\u001b[43m[\u001b[49m\u001b[43mj\u001b[49m\u001b[43m]\u001b[49m\u001b[43m \u001b[49m\u001b[38;5;28;43;01mfor\u001b[39;49;00m\u001b[43m \u001b[49m\u001b[43mj\u001b[49m\u001b[43m \u001b[49m\u001b[38;5;129;43;01min\u001b[39;49;00m\u001b[43m \u001b[49m\u001b[43mrow\u001b[49m\u001b[43m]\u001b[49m\n",
      "\u001b[1;31mTypeError\u001b[0m: 'int' object is not iterable"
     ]
    }
   ],
   "source": [
    "def flatten_matrix(matrix, axis):\n",
    "    row = len(matrix)\n",
    "    if axis == 0:\n",
    "        return [row for i in row]\n",
    "    if axis == 1:\n",
    "        return [row[j] for j in row]\n",
    "flatten_matrix(m1,axis_1)\n",
    "flatten_matrix(m2,axis_2)"
   ]
  },
  {
   "cell_type": "markdown",
   "metadata": {},
   "source": [
    "clockwise rotation of list"
   ]
  },
  {
   "cell_type": "code",
   "execution_count": 27,
   "metadata": {},
   "outputs": [],
   "source": [
    "lst = [1,2,3,4,5]"
   ]
  },
  {
   "cell_type": "code",
   "execution_count": 37,
   "metadata": {},
   "outputs": [
    {
     "data": {
      "text/plain": [
       "[5, 4, 3, 2, 1]"
      ]
     },
     "execution_count": 37,
     "metadata": {},
     "output_type": "execute_result"
    },
    {
     "data": {
      "text/plain": [
       "[5, 4, 3, 2, 1]"
      ]
     },
     "execution_count": 37,
     "metadata": {},
     "output_type": "execute_result"
    }
   ],
   "source": [
    "def rotate_list_clockwise(lst, k):\n",
    "    # while k >= 1:\n",
    "    #     return lst[::-1]\n",
    "    if k >= 1:\n",
    "        return lst[::-1]\n",
    "rotate_list_clockwise(lst, 1)\n",
    "rotate_list_clockwise(lst, 2)    \n"
   ]
  },
  {
   "cell_type": "markdown",
   "metadata": {},
   "source": [
    "special identity matrix"
   ]
  },
  {
   "cell_type": "code",
   "execution_count": 41,
   "metadata": {},
   "outputs": [],
   "source": [
    "n = 3"
   ]
  },
  {
   "cell_type": "code",
   "execution_count": 46,
   "metadata": {},
   "outputs": [],
   "source": [
    "def special_identity_matrix(n):\n",
    "    matrix = [[\n",
    "         0 for i in range(n)\n",
    "        ] for i in range(n)]\n",
    "    \n",
    "    for i in range(n):\n",
    "        for j in range(n):\n",
    "            if i == j:\n",
    "                matrix[i][j] = 1\n",
    "            elif i == n and j == 1:\n",
    "                matrix[i][j] = 1\n",
    "            elif i == 1 and j == n:\n",
    "                matrix[i][j] = 1\n",
    "                return matrix\n",
    "special_identity_matrix(3)\n"
   ]
  },
  {
   "cell_type": "markdown",
   "metadata": {},
   "source": [
    "matrix multiplication"
   ]
  },
  {
   "cell_type": "code",
   "execution_count": null,
   "metadata": {},
   "outputs": [],
   "source": [
    "A = [[1,2],[4,5],[7,8]]  # 3x2\n",
    "\n",
    "B = [[10,11,12,13],[14,15,16,17]]  # 2x4\n",
    "\n",
    "# AxB = \n",
    "\n",
    "C = [[1],[1],[1][1]] # 4x1\n",
    " "
   ]
  },
  {
   "cell_type": "code",
   "execution_count": null,
   "metadata": {},
   "outputs": [],
   "source": [
    "m = len(A)\n",
    "n = len(B)\n",
    "p = len(B[0])\n",
    "\n",
    "new_mat = [[\n",
    "    0 for i in range(p)\n",
    "] for i in range(m)]\n",
    "\n",
    "for i in range(m):\n",
    "    for j in range(p):\n",
    "        sigma = 0\n",
    "        i_row = A[i]\n",
    "        j_col = [row[j] for row in B]\n",
    "\n",
    "        for k in range(len(i_row)):\n",
    "            sigma += i_row[k] * j_col[k]\n",
    "\n",
    "            sigma += i_row[k] * j_col[k]\n",
    "\n",
    "        new_mat[i][j] = sigma\n",
    "\n",
    "# C = [[\n",
    "#     0 for i in range(p)\n",
    "# ] for i in range(m)]\n",
    "\n",
    "# for i in range(m):\n",
    "#     for j in range(p):\n",
    "#         sigma = 0\n",
    "#         i_row = A[i]\n",
    "#         j_col = [row[j] for row in B]\n",
    "\n",
    "#         for k in range(len(i_row)):\n",
    "#             sigma += i_row[k] * j_col[k]\n",
    "\n",
    "#             sigma += i_row[k] * j_col[k]\n",
    "\n",
    "#         new_mat[i][j] = sigma\n",
    "\n"
   ]
  },
  {
   "cell_type": "code",
   "execution_count": null,
   "metadata": {},
   "outputs": [],
   "source": [
    "def evaluate_math_sentence(sentence):\n",
    "    D = {\n",
    "        'plus': +,\n",
    "        'minus': -,\n",
    "        'one': 1,\n",
    "        'two': 2,\n",
    "        'three': 3,\n",
    "        'four': 4,\n",
    "        'five': 5,\n",
    "        'six': 7,\n",
    "        'eight': 8,\n",
    "        'nine': 9,\n",
    "        'ten': 10 \n",
    "    }\n",
    "\n",
    "\n"
   ]
  },
  {
   "cell_type": "code",
   "execution_count": null,
   "metadata": {},
   "outputs": [],
   "source": [
    "def flatten_matrix(matrix, axis):\n",
    "  \"\"\"\n",
    "  Flatten a matrix along the specified axis, resulting in a list of all elements\n",
    "  arranged either in row-major (axis=0) or column-major (axis=1) order.\n",
    "\n",
    "  Args:\n",
    "      matrix (list): Matrix to flatten.\n",
    "      axis (int): Axis along which to flatten (0 for rows, 1 for columns).\n",
    "\n",
    "  Returns:\n",
    "      list: Flattened matrix.\n",
    "  \"\"\"\n",
    "  pass\n",
    "\n",
    "\n",
    "# Test Case 1\n",
    "matrix = [[1, 2, 3], [4, 5, 6], [7, 8, 9]]\n",
    "axis = 0\n",
    "# Expected: [1, 2, 3, 4, 5, 6, 7, 8, 9]\n",
    "print(flatten_matrix(matrix, axis))\n",
    "\n",
    "# Test Case 2\n",
    "matrix = [[1, 2, 3], [4, 5, 6], [7, 8, 9]]\n",
    "axis = 1\n",
    "# Expected: [1, 4, 7, 2, 5, 8, 3, 6, 9]\n",
    "print(flatten_matrix(matrix, axis))"
   ]
  }
 ],
 "metadata": {
  "kernelspec": {
   "display_name": "Python 3",
   "language": "python",
   "name": "python3"
  },
  "language_info": {
   "codemirror_mode": {
    "name": "ipython",
    "version": 3
   },
   "file_extension": ".py",
   "mimetype": "text/x-python",
   "name": "python",
   "nbconvert_exporter": "python",
   "pygments_lexer": "ipython3",
   "version": "3.12.2"
  }
 },
 "nbformat": 4,
 "nbformat_minor": 2
}

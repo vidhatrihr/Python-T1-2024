{
 "cells": [
  {
   "cell_type": "code",
   "execution_count": 1,
   "id": "e7090f08-4df5-402b-b955-dca7f99bb58e",
   "metadata": {},
   "outputs": [],
   "source": [
    "from datetime import datetime"
   ]
  },
  {
   "cell_type": "markdown",
   "id": "7ff1da88-2bda-4c21-a48f-2884b4407931",
   "metadata": {},
   "source": [
    "### ♉ **Opening a File:**\n",
    "\n",
    "👉 You can open a file using the `open()` function.\n",
    "\n",
    "👉 It takes two arguments: the file name and the mode (\"r\" for reading, \"w\" for writing, \"a\" for appending, and more)."
   ]
  },
  {
   "cell_type": "code",
   "execution_count": 10,
   "id": "d4fc1e7a-e5fc-400d-b62e-7b242605ae1a",
   "metadata": {},
   "outputs": [],
   "source": [
    "file = open(\"example.txt\", \"r\")"
   ]
  },
  {
   "cell_type": "markdown",
   "id": "298a7ced-b538-4c39-9f71-a26576d54733",
   "metadata": {},
   "source": [
    "### ♉ **Reading from a File:**"
   ]
  },
  {
   "cell_type": "code",
   "execution_count": 11,
   "id": "0ce2f6e0-d3fa-4cbc-8632-60e26477c396",
   "metadata": {},
   "outputs": [
    {
     "data": {
      "text/plain": [
       "'This is line 1.\\nThis is line 2.\\nThis is line 3.\\nThis is line 4.\\nThis is line 5.'"
      ]
     },
     "execution_count": 11,
     "metadata": {},
     "output_type": "execute_result"
    }
   ],
   "source": [
    "file.read()  # Reads the entire content of the file"
   ]
  },
  {
   "cell_type": "markdown",
   "id": "841da889-1349-42b1-a087-f16e5d928c27",
   "metadata": {},
   "source": [
    "### ♉ **Closing a File:**"
   ]
  },
  {
   "cell_type": "code",
   "execution_count": 12,
   "id": "8c53c2a2-4a96-4ec5-b008-f73dfc728a4c",
   "metadata": {},
   "outputs": [],
   "source": [
    "file.close()"
   ]
  },
  {
   "cell_type": "markdown",
   "id": "34f534dc-8744-45d5-85d7-3e755a87fc75",
   "metadata": {},
   "source": [
    "### ♉ **Writing to a File:**\n",
    "👉 Open a file in write mode and use methods like `write()` to add content to it.\n",
    "\n",
    "👉 This mode will create the file if it doesn't exist and overwrite its content if it does."
   ]
  },
  {
   "cell_type": "code",
   "execution_count": 13,
   "id": "6666a2af-c416-420a-a936-d6819f304f04",
   "metadata": {},
   "outputs": [
    {
     "data": {
      "text/plain": [
       "50"
      ]
     },
     "execution_count": 13,
     "metadata": {},
     "output_type": "execute_result"
    }
   ],
   "source": [
    "time_file = open(\"time.txt\", \"w\")\n",
    "time_file.write(f'Current date and time: {datetime.now()}\\n')\n",
    "time_file.close()"
   ]
  },
  {
   "cell_type": "markdown",
   "id": "0068ca06-ffeb-4c10-bdca-bc20102edadf",
   "metadata": {},
   "source": [
    "### ♉ **Appending to a File:**\n",
    "   To add content to an existing file without overwriting, open it in append mode (\"a\")."
   ]
  },
  {
   "cell_type": "code",
   "execution_count": 14,
   "id": "66aeb101-a260-4a4d-b0e7-9edebbc1a913",
   "metadata": {},
   "outputs": [
    {
     "data": {
      "text/plain": [
       "50"
      ]
     },
     "execution_count": 14,
     "metadata": {},
     "output_type": "execute_result"
    }
   ],
   "source": [
    "time_file = open(\"time.txt\", \"a\")\n",
    "time_file.write(f'Current date and time: {datetime.now()}\\n')\n",
    "time_file.close()"
   ]
  },
  {
   "cell_type": "markdown",
   "id": "95b8f4d2-1828-421b-b553-923cd6fe42fc",
   "metadata": {},
   "source": [
    "### ♉ **Using `with` Statements:**\n",
    "👉 Using the `with` statement is recommended as it automatically closes the file when you're done. It's a safer way to handle files."
   ]
  },
  {
   "cell_type": "code",
   "execution_count": 15,
   "id": "d6d01eb4-e4f9-49ba-9641-20925868b845",
   "metadata": {},
   "outputs": [
    {
     "name": "stdout",
     "output_type": "stream",
     "text": [
      "This is line 1.\n",
      "This is line 2.\n",
      "This is line 3.\n",
      "This is line 4.\n",
      "This is line 5.\n"
     ]
    }
   ],
   "source": [
    "with open(\"example.txt\", \"r\") as file:\n",
    "    content = file.read()\n",
    "    print(content)"
   ]
  },
  {
   "cell_type": "markdown",
   "id": "17490116-3198-435e-bc9b-4c64e77bb1cb",
   "metadata": {},
   "source": [
    "### ♉ **Reading Lines:**\n",
    "👉 You can read a file line by line using methods like `readline()` or by iterating over the file object."
   ]
  },
  {
   "cell_type": "code",
   "execution_count": 69,
   "id": "06387e08-1bd5-45b1-abd8-bb678c38bff6",
   "metadata": {},
   "outputs": [
    {
     "name": "stdout",
     "output_type": "stream",
     "text": [
      "This is line 1.\n",
      "This is line 2.\n",
      "This is line 3.\n",
      "This is line 4.\n",
      "This is line 5.\n"
     ]
    }
   ],
   "source": [
    "with open(\"example.txt\", \"r\") as file:\n",
    "   for line in file:\n",
    "       print(line.strip())"
   ]
  },
  {
   "cell_type": "markdown",
   "id": "b48950c9-4444-40b2-ad64-0b4bb7cc5a2a",
   "metadata": {},
   "source": [
    "### ♉ Using the `readline()` function:"
   ]
  },
  {
   "cell_type": "code",
   "execution_count": 70,
   "id": "e587fa6d-8256-4887-9f03-65a76c27b000",
   "metadata": {},
   "outputs": [
    {
     "name": "stdout",
     "output_type": "stream",
     "text": [
      "This is line 1.\n",
      "This is line 2.\n",
      "This is line 3.\n",
      "This is line 4.\n",
      "This is line 5.\n",
      "File reading complete.\n"
     ]
    }
   ],
   "source": [
    "with open('example.txt', \"r\") as file:\n",
    "    line = file.readline()  # Read the first line\n",
    "    while line:\n",
    "        print(line.strip())  # Print the line without newline character\n",
    "        line = file.readline()  # Read the next line\n",
    "\n",
    "print(\"File reading complete.\")"
   ]
  },
  {
   "cell_type": "markdown",
   "id": "28370d68-f157-4e94-a91b-4214484a94d1",
   "metadata": {},
   "source": [
    "### ♉ Read and parse the CSV file:"
   ]
  },
  {
   "cell_type": "code",
   "execution_count": 21,
   "id": "04e50a73",
   "metadata": {},
   "outputs": [
    {
     "data": {
      "text/plain": [
       "[['Name', 'Age', 'Email'],\n",
       " ['Alice Johnson', '32', 'alice@example.com'],\n",
       " ['Bob Smith', '28', 'bob@example.com'],\n",
       " ['Catherine Brown', '45', 'catherine@example.com'],\n",
       " ['David Wilson', '22', 'david@example.com'],\n",
       " ['Emily Martinez', '29', 'emily@example.com'],\n",
       " ['Frank Jones', '37', 'frank@example.com'],\n",
       " ['Grace Davis', '26', 'grace@example.com'],\n",
       " ['Henry Taylor', '33', 'henry@example.com'],\n",
       " ['Isabel Miller', '40', 'isabel@example.com'],\n",
       " ['Jack White', '24', 'jack@example.com'],\n",
       " ['Karen Harris', '29', 'karen@example.com'],\n",
       " ['Liam Thomas', '31', 'liam@example.com'],\n",
       " ['Megan Jackson', '27', 'megan@example.com'],\n",
       " ['Nathan Clark', '36', 'nathan@example.com'],\n",
       " ['Olivia Lee', '23', 'olivia@example.com'],\n",
       " ['Patrick Johnson', '38', 'patrick@example.com'],\n",
       " ['Quincy Anderson', '30', 'quincy@example.com'],\n",
       " ['Rachel Brown', '34', 'rachel@example.com'],\n",
       " ['Samuel Walker', '25', 'samuel@example.com'],\n",
       " ['Taylor Hall', '28', 'taylor@example.com'],\n",
       " ['']]"
      ]
     },
     "execution_count": 21,
     "metadata": {},
     "output_type": "execute_result"
    }
   ],
   "source": [
    "def parse_csv(filename):\n",
    "    # Read the contents of the CSV file and split into lines\n",
    "    file_content = open(filename, 'r').read()\n",
    "    lines = file_content.split('\\n')\n",
    "\n",
    "    # Split each line into a list of values using comma as the delimiter\n",
    "    parsed_data = [line.split(',') for line in lines]\n",
    "\n",
    "    return parsed_data\n",
    "\n",
    "\n",
    "# Example usage\n",
    "csv_filename = \"data.csv\"\n",
    "parse_csv(csv_filename)"
   ]
  },
  {
   "cell_type": "code",
   "execution_count": 2,
   "id": "e61eded5-d7f9-4b78-ac1e-2d563e773b98",
   "metadata": {},
   "outputs": [],
   "source": [
    "def parse_csv(filename):\n",
    "    # Initialize an empty list to store the parsed data\n",
    "    parsed_data = []\n",
    "\n",
    "    # Open the CSV file for reading\n",
    "    with open(filename, \"r\") as file:\n",
    "        # Iterate through each line in the file\n",
    "        for line in file:\n",
    "            # Remove leading/trailing whitespaces, split the line by commas\n",
    "            # and create a row as a list of values\n",
    "            row = line.strip().split(\",\")\n",
    "\n",
    "            # Append the row to the parsed_data list\n",
    "            parsed_data.append(row)\n",
    "\n",
    "    # Return the parsed data\n",
    "    return parsed_data"
   ]
  },
  {
   "cell_type": "code",
   "execution_count": 3,
   "id": "63f14d9d",
   "metadata": {},
   "outputs": [
    {
     "data": {
      "text/plain": [
       "[['Name', 'Age', 'Email'],\n",
       " ['Alice Johnson', '32', 'alice@example.com'],\n",
       " ['Bob Smith', '28', 'bob@example.com'],\n",
       " ['Catherine Brown', '45', 'catherine@example.com'],\n",
       " ['David Wilson', '22', 'david@example.com'],\n",
       " ['Emily Martinez', '29', 'emily@example.com'],\n",
       " ['Frank Jones', '37', 'frank@example.com'],\n",
       " ['Grace Davis', '26', 'grace@example.com'],\n",
       " ['Henry Taylor', '33', 'henry@example.com'],\n",
       " ['Isabel Miller', '40', 'isabel@example.com'],\n",
       " ['Jack White', '24', 'jack@example.com'],\n",
       " ['Karen J Harris', '29', 'karen@example.com'],\n",
       " ['Liam Thomas', '31', 'liam@example.com'],\n",
       " ['Megan Jackson', '27', 'megan@example.com'],\n",
       " ['Nathan Clark', '36', 'nathan@example.com'],\n",
       " ['Olivia Lee', '23', 'olivia@example.com'],\n",
       " ['Patrick Johnson', '38', 'patrick@example.com'],\n",
       " ['Quincy Anderson', '30', 'quincy@example.com'],\n",
       " ['Rachel Brown', '34', 'rachel@example.com'],\n",
       " ['Samuel Walker', '25', 'samuel@example.com'],\n",
       " ['Taylor Hall', '28', 'taylor@example.com']]"
      ]
     },
     "execution_count": 3,
     "metadata": {},
     "output_type": "execute_result"
    }
   ],
   "source": [
    "# Example usage\n",
    "csv_filename = \"data.csv\"\n",
    "parsed_data = parse_csv(csv_filename)\n",
    "\n",
    "parsed_data"
   ]
  },
  {
   "cell_type": "markdown",
   "id": "32edcfa8",
   "metadata": {},
   "source": [
    "### ♉ How to join data back into the CSV string"
   ]
  },
  {
   "cell_type": "code",
   "execution_count": 9,
   "id": "b2a5d7cb",
   "metadata": {},
   "outputs": [
    {
     "data": {
      "text/plain": [
       "[['Name', 'Age', 'Email'],\n",
       " ['Alice Johnson', '32', 'alice@example.com'],\n",
       " ['Bob Smith', '28', 'bob@example.com'],\n",
       " ['Catherine Brown', '45', 'catherine@example.com'],\n",
       " ['David Wilson', '22', 'david@example.com'],\n",
       " ['Emily Martinez', '29', 'emily@example.com'],\n",
       " ['Frank Jones', '37', 'frank@example.com'],\n",
       " ['Grace Davis', '26', 'grace@example.com'],\n",
       " ['Henry Taylor', '33', 'henry@example.com'],\n",
       " ['Isabel Miller', '40', 'isabel@example.com'],\n",
       " ['Jack White', '24', 'jack@example.com'],\n",
       " ['Karen J Harris', '29', 'karen@example.com'],\n",
       " ['Liam Thomas', '31', 'liam@example.com'],\n",
       " ['Megan Jackson', '27', 'megan@example.com'],\n",
       " ['Nathan Clark', '36', 'nathan@example.com'],\n",
       " ['Olivia Lee', '23', 'olivia@example.com'],\n",
       " ['Patrick Johnson', '38', 'patrick@example.com'],\n",
       " ['Quincy Anderson', '30', 'quincy@example.com'],\n",
       " ['Rachel Brown', '34', 'rachel@example.com'],\n",
       " ['Samuel Walker', '25', 'samuel@example.com'],\n",
       " ['Taylor Hall', '28', 'taylor@example.com']]"
      ]
     },
     "execution_count": 9,
     "metadata": {},
     "output_type": "execute_result"
    }
   ],
   "source": [
    "# Iterate through each row in parsed_data and create a list of rows\n",
    "[row for row in parsed_data]"
   ]
  },
  {
   "cell_type": "code",
   "execution_count": 10,
   "id": "79604b92",
   "metadata": {},
   "outputs": [
    {
     "data": {
      "text/plain": [
       "['Name,Age,Email',\n",
       " 'Alice Johnson,32,alice@example.com',\n",
       " 'Bob Smith,28,bob@example.com',\n",
       " 'Catherine Brown,45,catherine@example.com',\n",
       " 'David Wilson,22,david@example.com',\n",
       " 'Emily Martinez,29,emily@example.com',\n",
       " 'Frank Jones,37,frank@example.com',\n",
       " 'Grace Davis,26,grace@example.com',\n",
       " 'Henry Taylor,33,henry@example.com',\n",
       " 'Isabel Miller,40,isabel@example.com',\n",
       " 'Jack White,24,jack@example.com',\n",
       " 'Karen J Harris,29,karen@example.com',\n",
       " 'Liam Thomas,31,liam@example.com',\n",
       " 'Megan Jackson,27,megan@example.com',\n",
       " 'Nathan Clark,36,nathan@example.com',\n",
       " 'Olivia Lee,23,olivia@example.com',\n",
       " 'Patrick Johnson,38,patrick@example.com',\n",
       " 'Quincy Anderson,30,quincy@example.com',\n",
       " 'Rachel Brown,34,rachel@example.com',\n",
       " 'Samuel Walker,25,samuel@example.com',\n",
       " 'Taylor Hall,28,taylor@example.com']"
      ]
     },
     "execution_count": 10,
     "metadata": {},
     "output_type": "execute_result"
    }
   ],
   "source": [
    "\n",
    "# Join each row's elements with commas to create a list of comma-separated strings\n",
    "[','.join(row) for row in parsed_data]"
   ]
  },
  {
   "cell_type": "code",
   "execution_count": 11,
   "id": "076ade39",
   "metadata": {},
   "outputs": [
    {
     "data": {
      "text/plain": [
       "'Name,Age,Email\\nAlice Johnson,32,alice@example.com\\nBob Smith,28,bob@example.com\\nCatherine Brown,45,catherine@example.com\\nDavid Wilson,22,david@example.com\\nEmily Martinez,29,emily@example.com\\nFrank Jones,37,frank@example.com\\nGrace Davis,26,grace@example.com\\nHenry Taylor,33,henry@example.com\\nIsabel Miller,40,isabel@example.com\\nJack White,24,jack@example.com\\nKaren J Harris,29,karen@example.com\\nLiam Thomas,31,liam@example.com\\nMegan Jackson,27,megan@example.com\\nNathan Clark,36,nathan@example.com\\nOlivia Lee,23,olivia@example.com\\nPatrick Johnson,38,patrick@example.com\\nQuincy Anderson,30,quincy@example.com\\nRachel Brown,34,rachel@example.com\\nSamuel Walker,25,samuel@example.com\\nTaylor Hall,28,taylor@example.com'"
      ]
     },
     "execution_count": 11,
     "metadata": {},
     "output_type": "execute_result"
    }
   ],
   "source": [
    "# Join the comma-separated rows using newline character to create the final formatted string\n",
    "'\\n'.join(\n",
    "    ','.join(row) for row in parsed_data\n",
    ")"
   ]
  }
 ],
 "metadata": {
  "kernelspec": {
   "display_name": "Python 3 (ipykernel)",
   "language": "python",
   "name": "python3"
  },
  "language_info": {
   "codemirror_mode": {
    "name": "ipython",
    "version": 3
   },
   "file_extension": ".py",
   "mimetype": "text/x-python",
   "name": "python",
   "nbconvert_exporter": "python",
   "pygments_lexer": "ipython3",
   "version": "3.12.2"
  }
 },
 "nbformat": 4,
 "nbformat_minor": 5
}

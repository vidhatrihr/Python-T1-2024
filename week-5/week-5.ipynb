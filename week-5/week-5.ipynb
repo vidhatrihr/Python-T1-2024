{
 "cells": [
  {
   "cell_type": "code",
   "execution_count": 1,
   "metadata": {},
   "outputs": [
    {
     "name": "stdout",
     "output_type": "stream",
     "text": [
      "720\n",
      "0\n",
      "-1\n"
     ]
    }
   ],
   "source": [
    "def factorial(n):\n",
    "    if n == 0:\n",
    "        return 0\n",
    "    if n < 0:\n",
    "        return -1\n",
    "    \n",
    "    product = 1\n",
    "    for i in range(1, n+1):\n",
    "            product *= i\n",
    "    return product\n",
    "\n",
    "print(factorial(6))\n",
    "print(factorial(0))\n",
    "print(factorial(-51))\n"
   ]
  },
  {
   "cell_type": "code",
   "execution_count": 3,
   "metadata": {},
   "outputs": [
    {
     "name": "stdout",
     "output_type": "stream",
     "text": [
      "False\n",
      "False\n",
      "True\n",
      "True\n"
     ]
    }
   ],
   "source": [
    "def check_leap_year(year):\n",
    "    # lets deal what if year is not divisable by 4\n",
    "    if year % 4 != 0:\n",
    "        return False\n",
    "    \n",
    "    # from here on year is divisable by 4\n",
    "    if year % 100 == 0:\n",
    "        if year % 400 == 0:\n",
    "            return True\n",
    "        return False\n",
    "    return True\n",
    "\n",
    "print(check_leap_year(1000))\n",
    "print(check_leap_year(1623))\n",
    "print(check_leap_year(2000))\n",
    "print(check_leap_year(2020))"
   ]
  },
  {
   "cell_type": "code",
   "execution_count": 4,
   "metadata": {},
   "outputs": [
    {
     "name": "stdout",
     "output_type": "stream",
     "text": [
      "677\n",
      "128\n"
     ]
    }
   ],
   "source": [
    "def maxval(a, b ,c):\n",
    "    return max([a, b, c])\n",
    "\n",
    "def minval(a, b, c):\n",
    "    return min([a, b, c])\n",
    "\n",
    "print(maxval(343, 353,677))\n",
    "print(minval(839, 279, 128))"
   ]
  },
  {
   "cell_type": "code",
   "execution_count": 6,
   "metadata": {},
   "outputs": [],
   "source": [
    "matrix_a = [\n",
    "    [1,2,3,4],\n",
    "    [2,3,4,6],\n",
    "]\n",
    "\n",
    "matrix_b = [\n",
    "    [4,7,8,3],\n",
    "    [3,4,6,8],\n",
    "]"
   ]
  },
  {
   "cell_type": "code",
   "execution_count": 7,
   "metadata": {},
   "outputs": [
    {
     "data": {
      "text/plain": [
       "True"
      ]
     },
     "execution_count": 7,
     "metadata": {},
     "output_type": "execute_result"
    }
   ],
   "source": [
    "def dim_equal(mat_a, mat_b):\n",
    "    a_rows = len(mat_a)\n",
    "    b_rows = len(mat_b)\n",
    "\n",
    "    a_cols = len(mat_a[0])\n",
    "    b_cols = len(mat_b[0])\n",
    "\n",
    "    return a_rows == b_rows and a_cols == b_cols\n",
    "\n",
    "dim_equal(matrix_a, matrix_b)\n"
   ]
  },
  {
   "cell_type": "code",
   "execution_count": 8,
   "metadata": {},
   "outputs": [
    {
     "data": {
      "text/plain": [
       "[98, 65, 45]"
      ]
     },
     "execution_count": 8,
     "metadata": {},
     "output_type": "execute_result"
    }
   ],
   "source": [
    "def first_three(L):\n",
    "    L.sort()\n",
    "    L.reverse()\n",
    "    return L[:3]\n",
    "\n",
    "first_three([1,5,3,98,45,65])"
   ]
  },
  {
   "cell_type": "code",
   "execution_count": 10,
   "metadata": {},
   "outputs": [
    {
     "data": {
      "text/plain": [
       "[73, 73, 37]"
      ]
     },
     "execution_count": 10,
     "metadata": {},
     "output_type": "execute_result"
    }
   ],
   "source": [
    "# a trick if sort is not working\n",
    "\n",
    "def first_three(L):\n",
    "    L = list(L)\n",
    "\n",
    "    L.sort()\n",
    "    L.reverse()\n",
    "    return L[:3]\n",
    "first_three([73,37,73,29, 27])"
   ]
  },
  {
   "cell_type": "code",
   "execution_count": 14,
   "metadata": {},
   "outputs": [
    {
     "data": {
      "text/plain": [
       "[]"
      ]
     },
     "execution_count": 14,
     "metadata": {},
     "output_type": "execute_result"
    }
   ],
   "source": [
    "def first_three(L):\n",
    "    L = list()  # if this is destroyed \n",
    "    L.sort()   # if this is destroyed\n",
    "\n",
    "    L = L[:]\n",
    "    L.sort(reverse= True)\n",
    "    return L[:3]\n",
    "\n",
    "first_three([12,35,64,23,67,78])"
   ]
  },
  {
   "cell_type": "code",
   "execution_count": 15,
   "metadata": {},
   "outputs": [],
   "source": [
    "def mysetrious(word):\n",
    "    pass\n"
   ]
  },
  {
   "cell_type": "code",
   "execution_count": null,
   "metadata": {},
   "outputs": [],
   "source": [
    "def type_of_sequence(sequence):\n",
    "    k =0\n",
    "    for word in sequence:\n",
    "        if mysetrious(word):\n",
    "            k += 1\n",
    "\n",
    "    if k < 2:\n",
    "        return 'mildly mysterious'\n",
    "    elif k < 5:\n",
    "        return 'moderately mysterious'\n",
    "    else:\n",
    "        return 'mostly mysterious'\n",
    "    \n",
    "type_of_sequence()"
   ]
  },
  {
   "cell_type": "code",
   "execution_count": 16,
   "metadata": {},
   "outputs": [
    {
     "name": "stdout",
     "output_type": "stream",
     "text": [
      "True\n",
      "False\n"
     ]
    }
   ],
   "source": [
    "def is_empty(L):\n",
    "    return len(L) == 0\n",
    "\n",
    "print(is_empty([]))\n",
    "print(is_empty([2,4,6,7]))\n"
   ]
  },
  {
   "cell_type": "code",
   "execution_count": 18,
   "metadata": {},
   "outputs": [
    {
     "name": "stdout",
     "output_type": "stream",
     "text": [
      "2\n",
      "23\n"
     ]
    }
   ],
   "source": [
    "def is_first(L):\n",
    "    if is_empty(L):\n",
    "        return 'None'\n",
    "    else:\n",
    "        return L[0]\n",
    "    \n",
    "print(is_first([2,4,6,1]))\n",
    "print(is_first([23,24,36,11]))\n"
   ]
  },
  {
   "cell_type": "code",
   "execution_count": 19,
   "metadata": {},
   "outputs": [
    {
     "name": "stdout",
     "output_type": "stream",
     "text": [
      "None\n",
      "3\n"
     ]
    }
   ],
   "source": [
    "def last(L):\n",
    "    if is_empty(L):\n",
    "        return 'None'\n",
    "    return L[-1]\n",
    "\n",
    "print(last([]))\n",
    "print(last([1,3,6,3]))"
   ]
  },
  {
   "cell_type": "code",
   "execution_count": 20,
   "metadata": {},
   "outputs": [
    {
     "name": "stdout",
     "output_type": "stream",
     "text": [
      "[38, 378, 382]\n"
     ]
    }
   ],
   "source": [
    "def init(L):\n",
    "    if is_empty(L):\n",
    "        return 'None'\n",
    "    return L[:-1]\n",
    "\n",
    "print(init([38, 378, 382, 322]))"
   ]
  },
  {
   "cell_type": "code",
   "execution_count": 22,
   "metadata": {},
   "outputs": [
    {
     "name": "stdout",
     "output_type": "stream",
     "text": [
      "[28, 26, 29]\n"
     ]
    }
   ],
   "source": [
    "def rest(L):\n",
    " if is_empty(L):\n",
    "        return 'None'\n",
    " return L[1:]\n",
    "\n",
    "print(rest([72,28,26,29]))"
   ]
  },
  {
   "cell_type": "code",
   "execution_count": 26,
   "metadata": {},
   "outputs": [
    {
     "data": {
      "text/plain": [
       "2"
      ]
     },
     "execution_count": 26,
     "metadata": {},
     "output_type": "execute_result"
    }
   ],
   "source": [
    "def fibo(n):\n",
    "    if n == 1 or n == 2:\n",
    "        return 1\n",
    "    fibo_list = [1, 1]\n",
    "    for i in range(3, n+1):\n",
    "        next_index = i-1\n",
    "        fibo_list.append(fibo_list[next_index-1] + fibo_list[next_index-2])\n",
    "        return fibo_list[-1]\n",
    "\n",
    "fibo(8)\n"
   ]
  },
  {
   "cell_type": "code",
   "execution_count": 29,
   "metadata": {},
   "outputs": [],
   "source": [
    "matrix_a = [\n",
    "    [1,2,3,4],\n",
    "    [2,3,4,6],\n",
    "]"
   ]
  },
  {
   "cell_type": "code",
   "execution_count": 30,
   "metadata": {},
   "outputs": [
    {
     "data": {
      "text/plain": [
       "[1, 2, 3, 4]"
      ]
     },
     "execution_count": 30,
     "metadata": {},
     "output_type": "execute_result"
    },
    {
     "data": {
      "text/plain": [
       "[1, 2]"
      ]
     },
     "execution_count": 30,
     "metadata": {},
     "output_type": "execute_result"
    }
   ],
   "source": [
    "def get_row(mat, row):\n",
    "    return mat[row]\n",
    "\n",
    "def get_column(mat, col):\n",
    "    return [row[col] for row in mat]\n",
    "\n",
    "get_row(matrix_a, 0)\n",
    "get_column(matrix_a, 0)"
   ]
  },
  {
   "cell_type": "code",
   "execution_count": 33,
   "metadata": {},
   "outputs": [
    {
     "name": "stdout",
     "output_type": "stream",
     "text": [
      "og_list=[1, 2, 3, 5, 6]\n"
     ]
    },
    {
     "data": {
      "text/plain": [
       "[1, 2, 3, 4, 5, 6]"
      ]
     },
     "execution_count": 33,
     "metadata": {},
     "output_type": "execute_result"
    },
    {
     "name": "stdout",
     "output_type": "stream",
     "text": [
      "og_list=[1, 2, 3, 5, 6]\n"
     ]
    }
   ],
   "source": [
    "def insert(L, value):\n",
    "    L = L[:]\n",
    "    L.append(value)\n",
    "    L.sort()\n",
    "    return L\n",
    "\n",
    "og_list = [1, 2, 3, 5, 6]\n",
    "print(f'{og_list=}')\n",
    "\n",
    "insert(og_list, 4)\n",
    "\n",
    "print(f'{og_list=}')"
   ]
  }
 ],
 "metadata": {
  "kernelspec": {
   "display_name": "Python 3",
   "language": "python",
   "name": "python3"
  },
  "language_info": {
   "codemirror_mode": {
    "name": "ipython",
    "version": 3
   },
   "file_extension": ".py",
   "mimetype": "text/x-python",
   "name": "python",
   "nbconvert_exporter": "python",
   "pygments_lexer": "ipython3",
   "version": "3.12.2"
  }
 },
 "nbformat": 4,
 "nbformat_minor": 2
}
